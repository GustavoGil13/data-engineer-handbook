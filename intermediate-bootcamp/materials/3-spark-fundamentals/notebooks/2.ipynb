{
 "cells": [
  {
   "cell_type": "code",
   "execution_count": 1,
   "id": "ba02bdce-98e6-4831-8677-bfe4499de110",
   "metadata": {},
   "outputs": [
    {
     "name": "stderr",
     "output_type": "stream",
     "text": [
      "25/09/14 15:04:40 WARN SparkSession: Using an existing Spark session; only runtime SQL configurations will take effect.\n"
     ]
    },
    {
     "data": {
      "text/html": [
       "\n",
       "            <div>\n",
       "                <p><b>SparkSession - in-memory</b></p>\n",
       "                \n",
       "        <div>\n",
       "            <p><b>SparkContext</b></p>\n",
       "\n",
       "            <p><a href=\"http://abd7e4a6df94:4041\">Spark UI</a></p>\n",
       "\n",
       "            <dl>\n",
       "              <dt>Version</dt>\n",
       "                <dd><code>v3.5.5</code></dd>\n",
       "              <dt>Master</dt>\n",
       "                <dd><code>local[*]</code></dd>\n",
       "              <dt>AppName</dt>\n",
       "                <dd><code>PySparkShell</code></dd>\n",
       "            </dl>\n",
       "        </div>\n",
       "        \n",
       "            </div>\n",
       "        "
      ],
      "text/plain": [
       "<pyspark.sql.session.SparkSession at 0x758a5f84d720>"
      ]
     },
     "execution_count": 1,
     "metadata": {},
     "output_type": "execute_result"
    }
   ],
   "source": [
    "from pyspark.sql import SparkSession\n",
    "from pyspark.sql.functions import col, broadcast, to_timestamp, to_date\n",
    "from pyspark.sql import functions as F\n",
    "spark = SparkSession.builder.appName(\"Jupyter\").getOrCreate()\n",
    "spark.sparkContext.setLogLevel(\"ERROR\")\n",
    "# \n",
    "spark"
   ]
  },
  {
   "cell_type": "code",
   "execution_count": 2,
   "id": "61921e68-b092-4976-a9f6-bffa8c98f03c",
   "metadata": {},
   "outputs": [],
   "source": [
    "spark.conf.set('spark.sql.sources.v2.bucketing.enabled','true') \n",
    "spark.conf.set('spark.sql.sources.v2.bucketing.pushPartValues.enabled','true')\n",
    "spark.conf.set('spark.sql.iceberg.planning.preserve-data-grouping','true')\n",
    "spark.conf.set('spark.sql.requireAllClusterKeysForCoPartition','false')\n",
    "spark.conf.set('spark.sql.sources.v2.bucketing.partiallyClusteredDistribution.enabled','true')"
   ]
  },
  {
   "cell_type": "code",
   "execution_count": 3,
   "id": "aaba60a1-f52b-45e2-9e45-9f169535c682",
   "metadata": {},
   "outputs": [
    {
     "name": "stdout",
     "output_type": "stream",
     "text": [
      "+---------+--------------------+-----------+\n",
      "|namespace|           tableName|isTemporary|\n",
      "+---------+--------------------+-----------+\n",
      "| bootcamp|joined_dataset_bu...|      false|\n",
      "| bootcamp|joined_dataset_bu...|      false|\n",
      "| bootcamp|match_details_buc...|      false|\n",
      "| bootcamp|  match_details_hive|      false|\n",
      "| bootcamp|    matches_bucketed|      false|\n",
      "| bootcamp|        matches_hive|      false|\n",
      "| bootcamp|              medals|      false|\n",
      "| bootcamp|medals_matches_pl...|      false|\n",
      "| bootcamp|medals_matches_pl...|      false|\n",
      "+---------+--------------------+-----------+\n",
      "\n"
     ]
    }
   ],
   "source": [
    "spark.sql(\"show tables in bootcamp\").show()"
   ]
  },
  {
   "cell_type": "code",
   "execution_count": 4,
   "id": "9dd24ca8-5246-4053-8b17-4d58dc20cf6b",
   "metadata": {},
   "outputs": [
    {
     "data": {
      "text/html": [
       "<table>\n",
       "    <thead>\n",
       "        <tr>\n",
       "        </tr>\n",
       "    </thead>\n",
       "    <tbody>\n",
       "    </tbody>\n",
       "</table>"
      ],
      "text/plain": [
       "++\n",
       "||\n",
       "++\n",
       "++"
      ]
     },
     "execution_count": 4,
     "metadata": {},
     "output_type": "execute_result"
    }
   ],
   "source": [
    "%%sql\n",
    "CREATE DATABASE IF NOT EXISTS bootcamp"
   ]
  },
  {
   "cell_type": "code",
   "execution_count": 5,
   "id": "3cc3af6a-317b-45b0-bc63-1a60fe807665",
   "metadata": {},
   "outputs": [
    {
     "data": {
      "text/html": [
       "<table>\n",
       "    <thead>\n",
       "        <tr>\n",
       "            <th>namespace</th>\n",
       "            <th>tableName</th>\n",
       "            <th>isTemporary</th>\n",
       "        </tr>\n",
       "    </thead>\n",
       "    <tbody>\n",
       "        <tr>\n",
       "            <td>bootcamp</td>\n",
       "            <td>joined_dataset_bucketed</td>\n",
       "            <td>False</td>\n",
       "        </tr>\n",
       "        <tr>\n",
       "            <td>bootcamp</td>\n",
       "            <td>joined_dataset_bucketed_sorted</td>\n",
       "            <td>False</td>\n",
       "        </tr>\n",
       "        <tr>\n",
       "            <td>bootcamp</td>\n",
       "            <td>match_details_bucketed</td>\n",
       "            <td>False</td>\n",
       "        </tr>\n",
       "        <tr>\n",
       "            <td>bootcamp</td>\n",
       "            <td>match_details_hive</td>\n",
       "            <td>False</td>\n",
       "        </tr>\n",
       "        <tr>\n",
       "            <td>bootcamp</td>\n",
       "            <td>matches_bucketed</td>\n",
       "            <td>False</td>\n",
       "        </tr>\n",
       "        <tr>\n",
       "            <td>bootcamp</td>\n",
       "            <td>matches_hive</td>\n",
       "            <td>False</td>\n",
       "        </tr>\n",
       "        <tr>\n",
       "            <td>bootcamp</td>\n",
       "            <td>medals</td>\n",
       "            <td>False</td>\n",
       "        </tr>\n",
       "        <tr>\n",
       "            <td>bootcamp</td>\n",
       "            <td>medals_matches_players_bucketed</td>\n",
       "            <td>False</td>\n",
       "        </tr>\n",
       "        <tr>\n",
       "            <td>bootcamp</td>\n",
       "            <td>medals_matches_players_hive</td>\n",
       "            <td>False</td>\n",
       "        </tr>\n",
       "    </tbody>\n",
       "</table>"
      ],
      "text/plain": [
       "+-----------+---------------------------------+-------------+\n",
       "| namespace |                       tableName | isTemporary |\n",
       "+-----------+---------------------------------+-------------+\n",
       "|  bootcamp |         joined_dataset_bucketed |       False |\n",
       "|  bootcamp |  joined_dataset_bucketed_sorted |       False |\n",
       "|  bootcamp |          match_details_bucketed |       False |\n",
       "|  bootcamp |              match_details_hive |       False |\n",
       "|  bootcamp |                matches_bucketed |       False |\n",
       "|  bootcamp |                    matches_hive |       False |\n",
       "|  bootcamp |                          medals |       False |\n",
       "|  bootcamp | medals_matches_players_bucketed |       False |\n",
       "|  bootcamp |     medals_matches_players_hive |       False |\n",
       "+-----------+---------------------------------+-------------+"
      ]
     },
     "execution_count": 5,
     "metadata": {},
     "output_type": "execute_result"
    }
   ],
   "source": [
    "%%sql\n",
    "\n",
    "show tables in bootcamp"
   ]
  },
  {
   "cell_type": "code",
   "execution_count": 6,
   "id": "e98ce593-6080-4427-a777-77fce32323ad",
   "metadata": {},
   "outputs": [
    {
     "data": {
      "text/html": [
       "<table>\n",
       "    <thead>\n",
       "        <tr>\n",
       "        </tr>\n",
       "    </thead>\n",
       "    <tbody>\n",
       "    </tbody>\n",
       "</table>"
      ],
      "text/plain": [
       "++\n",
       "||\n",
       "++\n",
       "++"
      ]
     },
     "execution_count": 6,
     "metadata": {},
     "output_type": "execute_result"
    }
   ],
   "source": [
    "%%sql\n",
    "\n",
    "DROP TABLE if exists bootcamp.match_details_bucketed;"
   ]
  },
  {
   "cell_type": "code",
   "execution_count": 7,
   "id": "f078f8ae-00e3-4a47-9603-89aba869bd4e",
   "metadata": {},
   "outputs": [
    {
     "data": {
      "text/html": [
       "<table>\n",
       "    <thead>\n",
       "        <tr>\n",
       "        </tr>\n",
       "    </thead>\n",
       "    <tbody>\n",
       "    </tbody>\n",
       "</table>"
      ],
      "text/plain": [
       "++\n",
       "||\n",
       "++\n",
       "++"
      ]
     },
     "execution_count": 7,
     "metadata": {},
     "output_type": "execute_result"
    }
   ],
   "source": [
    "%%sql\n",
    "CREATE TABLE bootcamp.match_details_bucketed (\n",
    "    match_id STRING,\n",
    "    player_gamertag STRING,\n",
    "    previous_spartan_rank INT,\n",
    "    spartan_rank INT,\n",
    "    previous_total_xp BIGINT,\n",
    "    total_xp BIGINT,\n",
    "    previous_csr_tier INT,\n",
    "    previous_csr_designation INT,\n",
    "    previous_csr INT,\n",
    "    previous_csr_percent_to_next_tier DOUBLE,\n",
    "    previous_csr_rank INT,\n",
    "    current_csr_tier INT,\n",
    "    current_csr_designation INT,\n",
    "    current_csr INT,\n",
    "    current_csr_percent_to_next_tier DOUBLE,\n",
    "    current_csr_rank INT,\n",
    "    player_rank_on_team INT,\n",
    "    player_finished BOOLEAN,\n",
    "    player_average_life STRING,\n",
    "    player_total_kills INT,\n",
    "    player_total_headshots INT,\n",
    "    player_total_weapon_damage DOUBLE,\n",
    "    player_total_shots_landed INT,\n",
    "    player_total_melee_kills INT,\n",
    "    player_total_melee_damage DOUBLE,\n",
    "    player_total_assassinations INT,\n",
    "    player_total_ground_pound_kills INT,\n",
    "    player_total_shoulder_bash_kills INT,\n",
    "    player_total_grenade_damage DOUBLE,\n",
    "    player_total_power_weapon_damage DOUBLE,\n",
    "    player_total_power_weapon_grabs INT,\n",
    "    player_total_deaths INT,\n",
    "    player_total_assists INT,\n",
    "    player_total_grenade_kills INT,\n",
    "    did_win BOOLEAN,\n",
    "    team_id INT\n",
    "  ) USING iceberg PARTITIONED BY (bucket(16, match_id));"
   ]
  },
  {
   "cell_type": "code",
   "execution_count": 8,
   "id": "ffe1f240-b330-48e0-ab20-bafdc8f8149a",
   "metadata": {},
   "outputs": [
    {
     "data": {
      "text/html": [
       "<table>\n",
       "    <thead>\n",
       "        <tr>\n",
       "            <th>col_name</th>\n",
       "            <th>data_type</th>\n",
       "            <th>comment</th>\n",
       "        </tr>\n",
       "    </thead>\n",
       "    <tbody>\n",
       "        <tr>\n",
       "            <td>match_id</td>\n",
       "            <td>string</td>\n",
       "            <td>None</td>\n",
       "        </tr>\n",
       "        <tr>\n",
       "            <td>player_gamertag</td>\n",
       "            <td>string</td>\n",
       "            <td>None</td>\n",
       "        </tr>\n",
       "        <tr>\n",
       "            <td>previous_spartan_rank</td>\n",
       "            <td>int</td>\n",
       "            <td>None</td>\n",
       "        </tr>\n",
       "        <tr>\n",
       "            <td>spartan_rank</td>\n",
       "            <td>int</td>\n",
       "            <td>None</td>\n",
       "        </tr>\n",
       "        <tr>\n",
       "            <td>previous_total_xp</td>\n",
       "            <td>bigint</td>\n",
       "            <td>None</td>\n",
       "        </tr>\n",
       "        <tr>\n",
       "            <td>total_xp</td>\n",
       "            <td>bigint</td>\n",
       "            <td>None</td>\n",
       "        </tr>\n",
       "        <tr>\n",
       "            <td>previous_csr_tier</td>\n",
       "            <td>int</td>\n",
       "            <td>None</td>\n",
       "        </tr>\n",
       "        <tr>\n",
       "            <td>previous_csr_designation</td>\n",
       "            <td>int</td>\n",
       "            <td>None</td>\n",
       "        </tr>\n",
       "        <tr>\n",
       "            <td>previous_csr</td>\n",
       "            <td>int</td>\n",
       "            <td>None</td>\n",
       "        </tr>\n",
       "        <tr>\n",
       "            <td>previous_csr_percent_to_next_tier</td>\n",
       "            <td>double</td>\n",
       "            <td>None</td>\n",
       "        </tr>\n",
       "        <tr>\n",
       "            <td>previous_csr_rank</td>\n",
       "            <td>int</td>\n",
       "            <td>None</td>\n",
       "        </tr>\n",
       "        <tr>\n",
       "            <td>current_csr_tier</td>\n",
       "            <td>int</td>\n",
       "            <td>None</td>\n",
       "        </tr>\n",
       "        <tr>\n",
       "            <td>current_csr_designation</td>\n",
       "            <td>int</td>\n",
       "            <td>None</td>\n",
       "        </tr>\n",
       "        <tr>\n",
       "            <td>current_csr</td>\n",
       "            <td>int</td>\n",
       "            <td>None</td>\n",
       "        </tr>\n",
       "        <tr>\n",
       "            <td>current_csr_percent_to_next_tier</td>\n",
       "            <td>double</td>\n",
       "            <td>None</td>\n",
       "        </tr>\n",
       "        <tr>\n",
       "            <td>current_csr_rank</td>\n",
       "            <td>int</td>\n",
       "            <td>None</td>\n",
       "        </tr>\n",
       "        <tr>\n",
       "            <td>player_rank_on_team</td>\n",
       "            <td>int</td>\n",
       "            <td>None</td>\n",
       "        </tr>\n",
       "        <tr>\n",
       "            <td>player_finished</td>\n",
       "            <td>boolean</td>\n",
       "            <td>None</td>\n",
       "        </tr>\n",
       "        <tr>\n",
       "            <td>player_average_life</td>\n",
       "            <td>string</td>\n",
       "            <td>None</td>\n",
       "        </tr>\n",
       "        <tr>\n",
       "            <td>player_total_kills</td>\n",
       "            <td>int</td>\n",
       "            <td>None</td>\n",
       "        </tr>\n",
       "        <tr>\n",
       "            <td>player_total_headshots</td>\n",
       "            <td>int</td>\n",
       "            <td>None</td>\n",
       "        </tr>\n",
       "        <tr>\n",
       "            <td>player_total_weapon_damage</td>\n",
       "            <td>double</td>\n",
       "            <td>None</td>\n",
       "        </tr>\n",
       "        <tr>\n",
       "            <td>player_total_shots_landed</td>\n",
       "            <td>int</td>\n",
       "            <td>None</td>\n",
       "        </tr>\n",
       "        <tr>\n",
       "            <td>player_total_melee_kills</td>\n",
       "            <td>int</td>\n",
       "            <td>None</td>\n",
       "        </tr>\n",
       "        <tr>\n",
       "            <td>player_total_melee_damage</td>\n",
       "            <td>double</td>\n",
       "            <td>None</td>\n",
       "        </tr>\n",
       "        <tr>\n",
       "            <td>player_total_assassinations</td>\n",
       "            <td>int</td>\n",
       "            <td>None</td>\n",
       "        </tr>\n",
       "        <tr>\n",
       "            <td>player_total_ground_pound_kills</td>\n",
       "            <td>int</td>\n",
       "            <td>None</td>\n",
       "        </tr>\n",
       "        <tr>\n",
       "            <td>player_total_shoulder_bash_kills</td>\n",
       "            <td>int</td>\n",
       "            <td>None</td>\n",
       "        </tr>\n",
       "        <tr>\n",
       "            <td>player_total_grenade_damage</td>\n",
       "            <td>double</td>\n",
       "            <td>None</td>\n",
       "        </tr>\n",
       "        <tr>\n",
       "            <td>player_total_power_weapon_damage</td>\n",
       "            <td>double</td>\n",
       "            <td>None</td>\n",
       "        </tr>\n",
       "        <tr>\n",
       "            <td>player_total_power_weapon_grabs</td>\n",
       "            <td>int</td>\n",
       "            <td>None</td>\n",
       "        </tr>\n",
       "        <tr>\n",
       "            <td>player_total_deaths</td>\n",
       "            <td>int</td>\n",
       "            <td>None</td>\n",
       "        </tr>\n",
       "        <tr>\n",
       "            <td>player_total_assists</td>\n",
       "            <td>int</td>\n",
       "            <td>None</td>\n",
       "        </tr>\n",
       "        <tr>\n",
       "            <td>player_total_grenade_kills</td>\n",
       "            <td>int</td>\n",
       "            <td>None</td>\n",
       "        </tr>\n",
       "        <tr>\n",
       "            <td>did_win</td>\n",
       "            <td>boolean</td>\n",
       "            <td>None</td>\n",
       "        </tr>\n",
       "        <tr>\n",
       "            <td>team_id</td>\n",
       "            <td>int</td>\n",
       "            <td>None</td>\n",
       "        </tr>\n",
       "        <tr>\n",
       "            <td></td>\n",
       "            <td></td>\n",
       "            <td></td>\n",
       "        </tr>\n",
       "        <tr>\n",
       "            <td># Partitioning</td>\n",
       "            <td></td>\n",
       "            <td></td>\n",
       "        </tr>\n",
       "        <tr>\n",
       "            <td>Part 0</td>\n",
       "            <td>bucket(16, match_id)</td>\n",
       "            <td></td>\n",
       "        </tr>\n",
       "    </tbody>\n",
       "</table>"
      ],
      "text/plain": [
       "+-----------------------------------+----------------------+---------+\n",
       "|                          col_name |            data_type | comment |\n",
       "+-----------------------------------+----------------------+---------+\n",
       "|                          match_id |               string |    None |\n",
       "|                   player_gamertag |               string |    None |\n",
       "|             previous_spartan_rank |                  int |    None |\n",
       "|                      spartan_rank |                  int |    None |\n",
       "|                 previous_total_xp |               bigint |    None |\n",
       "|                          total_xp |               bigint |    None |\n",
       "|                 previous_csr_tier |                  int |    None |\n",
       "|          previous_csr_designation |                  int |    None |\n",
       "|                      previous_csr |                  int |    None |\n",
       "| previous_csr_percent_to_next_tier |               double |    None |\n",
       "|                 previous_csr_rank |                  int |    None |\n",
       "|                  current_csr_tier |                  int |    None |\n",
       "|           current_csr_designation |                  int |    None |\n",
       "|                       current_csr |                  int |    None |\n",
       "|  current_csr_percent_to_next_tier |               double |    None |\n",
       "|                  current_csr_rank |                  int |    None |\n",
       "|               player_rank_on_team |                  int |    None |\n",
       "|                   player_finished |              boolean |    None |\n",
       "|               player_average_life |               string |    None |\n",
       "|                player_total_kills |                  int |    None |\n",
       "|            player_total_headshots |                  int |    None |\n",
       "|        player_total_weapon_damage |               double |    None |\n",
       "|         player_total_shots_landed |                  int |    None |\n",
       "|          player_total_melee_kills |                  int |    None |\n",
       "|         player_total_melee_damage |               double |    None |\n",
       "|       player_total_assassinations |                  int |    None |\n",
       "|   player_total_ground_pound_kills |                  int |    None |\n",
       "|  player_total_shoulder_bash_kills |                  int |    None |\n",
       "|       player_total_grenade_damage |               double |    None |\n",
       "|  player_total_power_weapon_damage |               double |    None |\n",
       "|   player_total_power_weapon_grabs |                  int |    None |\n",
       "|               player_total_deaths |                  int |    None |\n",
       "|              player_total_assists |                  int |    None |\n",
       "|        player_total_grenade_kills |                  int |    None |\n",
       "|                           did_win |              boolean |    None |\n",
       "|                           team_id |                  int |    None |\n",
       "|                                   |                      |         |\n",
       "|                    # Partitioning |                      |         |\n",
       "|                            Part 0 | bucket(16, match_id) |         |\n",
       "+-----------------------------------+----------------------+---------+"
      ]
     },
     "execution_count": 8,
     "metadata": {},
     "output_type": "execute_result"
    }
   ],
   "source": [
    "%%sql\n",
    "\n",
    "describe bootcamp.match_details_bucketed;"
   ]
  },
  {
   "cell_type": "code",
   "execution_count": 9,
   "id": "17e771ec-aee8-412f-b0f9-779f43b38a25",
   "metadata": {},
   "outputs": [
    {
     "name": "stderr",
     "output_type": "stream",
     "text": [
      "                                                                                "
     ]
    }
   ],
   "source": [
    "match_details = spark.read.option(\"header\", \"true\").csv(\"/home/iceberg/data/match_details.csv\")\n",
    "\n",
    "(\n",
    "    match_details\n",
    "    .withColumn(\"match_id\", col(\"match_id\").cast(\"string\"))\n",
    "    .withColumn(\"player_gamertag\", col(\"player_gamertag\").cast(\"string\"))\n",
    "    .withColumn(\"previous_spartan_rank\", col(\"previous_spartan_rank\").cast(\"int\"))\n",
    "    .withColumn(\"spartan_rank\", col(\"spartan_rank\").cast(\"int\"))\n",
    "    .withColumn(\"previous_total_xp\", col(\"previous_total_xp\").cast(\"bigint\"))\n",
    "    .withColumn(\"total_xp\", col(\"total_xp\").cast(\"bigint\"))\n",
    "    .withColumn(\"previous_csr_tier\", col(\"previous_csr_tier\").cast(\"int\"))\n",
    "    .withColumn(\"previous_csr_designation\", col(\"previous_csr_designation\").cast(\"int\"))\n",
    "    .withColumn(\"previous_csr\", col(\"previous_csr\").cast(\"int\"))\n",
    "    .withColumn(\"previous_csr_percent_to_next_tier\", col(\"previous_csr_percent_to_next_tier\").cast(\"double\"))\n",
    "    .withColumn(\"previous_csr_rank\", col(\"previous_csr_rank\").cast(\"int\"))\n",
    "    .withColumn(\"current_csr_tier\", col(\"current_csr_tier\").cast(\"int\"))\n",
    "    .withColumn(\"current_csr_designation\", col(\"current_csr_designation\").cast(\"int\"))\n",
    "    .withColumn(\"current_csr\", col(\"current_csr\").cast(\"int\"))\n",
    "    .withColumn(\"current_csr_percent_to_next_tier\", col(\"current_csr_percent_to_next_tier\").cast(\"double\"))\n",
    "    .withColumn(\"current_csr_rank\", col(\"current_csr_rank\").cast(\"int\"))\n",
    "    .withColumn(\"player_rank_on_team\", col(\"player_rank_on_team\").cast(\"int\"))\n",
    "    .withColumn(\"player_finished\", col(\"player_finished\").cast(\"boolean\"))\n",
    "    .withColumn(\"player_average_life\", col(\"player_average_life\").cast(\"string\"))\n",
    "    .withColumn(\"player_total_kills\", col(\"player_total_kills\").cast(\"int\"))\n",
    "    .withColumn(\"player_total_headshots\", col(\"player_total_headshots\").cast(\"int\"))\n",
    "    .withColumn(\"player_total_weapon_damage\", col(\"player_total_weapon_damage\").cast(\"double\"))\n",
    "    .withColumn(\"player_total_shots_landed\", col(\"player_total_shots_landed\").cast(\"int\"))\n",
    "    .withColumn(\"player_total_melee_kills\", col(\"player_total_melee_kills\").cast(\"int\"))\n",
    "    .withColumn(\"player_total_melee_damage\", col(\"player_total_melee_damage\").cast(\"double\"))\n",
    "    .withColumn(\"player_total_assassinations\", col(\"player_total_assassinations\").cast(\"int\"))\n",
    "    .withColumn(\"player_total_ground_pound_kills\", col(\"player_total_ground_pound_kills\").cast(\"int\"))\n",
    "    .withColumn(\"player_total_shoulder_bash_kills\", col(\"player_total_shoulder_bash_kills\").cast(\"int\"))\n",
    "    .withColumn(\"player_total_grenade_damage\", col(\"player_total_grenade_damage\").cast(\"double\"))\n",
    "    .withColumn(\"player_total_power_weapon_damage\", col(\"player_total_power_weapon_damage\").cast(\"double\"))\n",
    "    .withColumn(\"player_total_power_weapon_grabs\", col(\"player_total_power_weapon_grabs\").cast(\"int\"))\n",
    "    .withColumn(\"player_total_deaths\", col(\"player_total_deaths\").cast(\"int\"))\n",
    "    .withColumn(\"player_total_assists\", col(\"player_total_assists\").cast(\"int\"))\n",
    "    .withColumn(\"player_total_grenade_kills\", col(\"player_total_grenade_kills\").cast(\"int\"))\n",
    "    .withColumn(\"did_win\", col(\"did_win\").cast(\"boolean\"))  # converte 0/1 para False/True\n",
    "    .withColumn(\"team_id\", col(\"team_id\").cast(\"int\"))\n",
    ").write.mode(\"append\").bucketBy(16, \"match_id\").saveAsTable(\"bootcamp.match_details_bucketed\")"
   ]
  },
  {
   "cell_type": "code",
   "execution_count": 10,
   "id": "a3fb5354-056b-4f62-ad54-efb7d6eb129f",
   "metadata": {},
   "outputs": [
    {
     "data": {
      "text/html": [
       "<table>\n",
       "    <thead>\n",
       "        <tr>\n",
       "            <th>match_id</th>\n",
       "            <th>player_gamertag</th>\n",
       "            <th>previous_spartan_rank</th>\n",
       "            <th>spartan_rank</th>\n",
       "            <th>previous_total_xp</th>\n",
       "            <th>total_xp</th>\n",
       "            <th>previous_csr_tier</th>\n",
       "            <th>previous_csr_designation</th>\n",
       "            <th>previous_csr</th>\n",
       "            <th>previous_csr_percent_to_next_tier</th>\n",
       "            <th>previous_csr_rank</th>\n",
       "            <th>current_csr_tier</th>\n",
       "            <th>current_csr_designation</th>\n",
       "            <th>current_csr</th>\n",
       "            <th>current_csr_percent_to_next_tier</th>\n",
       "            <th>current_csr_rank</th>\n",
       "            <th>player_rank_on_team</th>\n",
       "            <th>player_finished</th>\n",
       "            <th>player_average_life</th>\n",
       "            <th>player_total_kills</th>\n",
       "            <th>player_total_headshots</th>\n",
       "            <th>player_total_weapon_damage</th>\n",
       "            <th>player_total_shots_landed</th>\n",
       "            <th>player_total_melee_kills</th>\n",
       "            <th>player_total_melee_damage</th>\n",
       "            <th>player_total_assassinations</th>\n",
       "            <th>player_total_ground_pound_kills</th>\n",
       "            <th>player_total_shoulder_bash_kills</th>\n",
       "            <th>player_total_grenade_damage</th>\n",
       "            <th>player_total_power_weapon_damage</th>\n",
       "            <th>player_total_power_weapon_grabs</th>\n",
       "            <th>player_total_deaths</th>\n",
       "            <th>player_total_assists</th>\n",
       "            <th>player_total_grenade_kills</th>\n",
       "            <th>did_win</th>\n",
       "            <th>team_id</th>\n",
       "        </tr>\n",
       "    </thead>\n",
       "    <tbody>\n",
       "        <tr>\n",
       "            <td>7a50f4f6-beec-40cd-b0d8-5e5e7a788c7a</td>\n",
       "            <td>JakeWilson801</td>\n",
       "            <td>17</td>\n",
       "            <td>17</td>\n",
       "            <td>116601</td>\n",
       "            <td>117376</td>\n",
       "            <td>1</td>\n",
       "            <td>4</td>\n",
       "            <td>0</td>\n",
       "            <td>32.0</td>\n",
       "            <td>None</td>\n",
       "            <td>1</td>\n",
       "            <td>4</td>\n",
       "            <td>0</td>\n",
       "            <td>62.0</td>\n",
       "            <td>None</td>\n",
       "            <td>3</td>\n",
       "            <td>False</td>\n",
       "            <td>PT30.6740704S</td>\n",
       "            <td>12</td>\n",
       "            <td>12</td>\n",
       "            <td>590.0</td>\n",
       "            <td>39</td>\n",
       "            <td>0</td>\n",
       "            <td>0.0</td>\n",
       "            <td>0</td>\n",
       "            <td>0</td>\n",
       "            <td>0</td>\n",
       "            <td>0.0</td>\n",
       "            <td>0.0</td>\n",
       "            <td>0</td>\n",
       "            <td>5</td>\n",
       "            <td>2</td>\n",
       "            <td>0</td>\n",
       "            <td>True</td>\n",
       "            <td>1</td>\n",
       "        </tr>\n",
       "        <tr>\n",
       "            <td>7a50f4f6-beec-40cd-b0d8-5e5e7a788c7a</td>\n",
       "            <td>taterbase</td>\n",
       "            <td>5</td>\n",
       "            <td>5</td>\n",
       "            <td>11480</td>\n",
       "            <td>11951</td>\n",
       "            <td>1</td>\n",
       "            <td>3</td>\n",
       "            <td>0</td>\n",
       "            <td>34.0</td>\n",
       "            <td>None</td>\n",
       "            <td>1</td>\n",
       "            <td>3</td>\n",
       "            <td>0</td>\n",
       "            <td>64.0</td>\n",
       "            <td>None</td>\n",
       "            <td>4</td>\n",
       "            <td>False</td>\n",
       "            <td>PT18.0020486S</td>\n",
       "            <td>6</td>\n",
       "            <td>1</td>\n",
       "            <td>140.0</td>\n",
       "            <td>22</td>\n",
       "            <td>3</td>\n",
       "            <td>135.0</td>\n",
       "            <td>0</td>\n",
       "            <td>0</td>\n",
       "            <td>1</td>\n",
       "            <td>0.0</td>\n",
       "            <td>0.0</td>\n",
       "            <td>0</td>\n",
       "            <td>9</td>\n",
       "            <td>0</td>\n",
       "            <td>0</td>\n",
       "            <td>True</td>\n",
       "            <td>1</td>\n",
       "        </tr>\n",
       "        <tr>\n",
       "            <td>7a50f4f6-beec-40cd-b0d8-5e5e7a788c7a</td>\n",
       "            <td>HxC B0ut2k</td>\n",
       "            <td>18</td>\n",
       "            <td>18</td>\n",
       "            <td>133408</td>\n",
       "            <td>134197</td>\n",
       "            <td>1</td>\n",
       "            <td>4</td>\n",
       "            <td>0</td>\n",
       "            <td>34.0</td>\n",
       "            <td>None</td>\n",
       "            <td>1</td>\n",
       "            <td>4</td>\n",
       "            <td>0</td>\n",
       "            <td>66.0</td>\n",
       "            <td>None</td>\n",
       "            <td>2</td>\n",
       "            <td>False</td>\n",
       "            <td>PT30.6697393S</td>\n",
       "            <td>13</td>\n",
       "            <td>13</td>\n",
       "            <td>595.0</td>\n",
       "            <td>27</td>\n",
       "            <td>0</td>\n",
       "            <td>0.0</td>\n",
       "            <td>0</td>\n",
       "            <td>0</td>\n",
       "            <td>0</td>\n",
       "            <td>0.0</td>\n",
       "            <td>0.0</td>\n",
       "            <td>0</td>\n",
       "            <td>5</td>\n",
       "            <td>0</td>\n",
       "            <td>0</td>\n",
       "            <td>True</td>\n",
       "            <td>1</td>\n",
       "        </tr>\n",
       "        <tr>\n",
       "            <td>7a50f4f6-beec-40cd-b0d8-5e5e7a788c7a</td>\n",
       "            <td>NecroLust12</td>\n",
       "            <td>14</td>\n",
       "            <td>14</td>\n",
       "            <td>71925</td>\n",
       "            <td>72388</td>\n",
       "            <td>1</td>\n",
       "            <td>4</td>\n",
       "            <td>0</td>\n",
       "            <td>64.0</td>\n",
       "            <td>None</td>\n",
       "            <td>1</td>\n",
       "            <td>4</td>\n",
       "            <td>0</td>\n",
       "            <td>34.0</td>\n",
       "            <td>None</td>\n",
       "            <td>8</td>\n",
       "            <td>False</td>\n",
       "            <td>PT16.2777739S</td>\n",
       "            <td>3</td>\n",
       "            <td>2</td>\n",
       "            <td>125.0</td>\n",
       "            <td>13</td>\n",
       "            <td>1</td>\n",
       "            <td>45.0</td>\n",
       "            <td>0</td>\n",
       "            <td>0</td>\n",
       "            <td>0</td>\n",
       "            <td>0.0</td>\n",
       "            <td>0.0</td>\n",
       "            <td>0</td>\n",
       "            <td>10</td>\n",
       "            <td>1</td>\n",
       "            <td>0</td>\n",
       "            <td>False</td>\n",
       "            <td>0</td>\n",
       "        </tr>\n",
       "        <tr>\n",
       "            <td>7a50f4f6-beec-40cd-b0d8-5e5e7a788c7a</td>\n",
       "            <td>Centerhead01</td>\n",
       "            <td>3</td>\n",
       "            <td>3</td>\n",
       "            <td>4560</td>\n",
       "            <td>5589</td>\n",
       "            <td>None</td>\n",
       "            <td>None</td>\n",
       "            <td>None</td>\n",
       "            <td>None</td>\n",
       "            <td>None</td>\n",
       "            <td>None</td>\n",
       "            <td>None</td>\n",
       "            <td>None</td>\n",
       "            <td>None</td>\n",
       "            <td>None</td>\n",
       "            <td>5</td>\n",
       "            <td>False</td>\n",
       "            <td>PT12.5488965S</td>\n",
       "            <td>11</td>\n",
       "            <td>9</td>\n",
       "            <td>395.0</td>\n",
       "            <td>12</td>\n",
       "            <td>2</td>\n",
       "            <td>75.00899999961257</td>\n",
       "            <td>0</td>\n",
       "            <td>0</td>\n",
       "            <td>0</td>\n",
       "            <td>0.0</td>\n",
       "            <td>0.0</td>\n",
       "            <td>0</td>\n",
       "            <td>14</td>\n",
       "            <td>0</td>\n",
       "            <td>0</td>\n",
       "            <td>False</td>\n",
       "            <td>0</td>\n",
       "        </tr>\n",
       "    </tbody>\n",
       "</table>"
      ],
      "text/plain": [
       "+--------------------------------------+-----------------+-----------------------+--------------+-------------------+----------+-------------------+--------------------------+--------------+-----------------------------------+-------------------+------------------+-------------------------+-------------+----------------------------------+------------------+---------------------+-----------------+---------------------+--------------------+------------------------+----------------------------+---------------------------+--------------------------+---------------------------+-----------------------------+---------------------------------+----------------------------------+-----------------------------+----------------------------------+---------------------------------+---------------------+----------------------+----------------------------+---------+---------+\n",
       "|                             match_id | player_gamertag | previous_spartan_rank | spartan_rank | previous_total_xp | total_xp | previous_csr_tier | previous_csr_designation | previous_csr | previous_csr_percent_to_next_tier | previous_csr_rank | current_csr_tier | current_csr_designation | current_csr | current_csr_percent_to_next_tier | current_csr_rank | player_rank_on_team | player_finished | player_average_life | player_total_kills | player_total_headshots | player_total_weapon_damage | player_total_shots_landed | player_total_melee_kills | player_total_melee_damage | player_total_assassinations | player_total_ground_pound_kills | player_total_shoulder_bash_kills | player_total_grenade_damage | player_total_power_weapon_damage | player_total_power_weapon_grabs | player_total_deaths | player_total_assists | player_total_grenade_kills | did_win | team_id |\n",
       "+--------------------------------------+-----------------+-----------------------+--------------+-------------------+----------+-------------------+--------------------------+--------------+-----------------------------------+-------------------+------------------+-------------------------+-------------+----------------------------------+------------------+---------------------+-----------------+---------------------+--------------------+------------------------+----------------------------+---------------------------+--------------------------+---------------------------+-----------------------------+---------------------------------+----------------------------------+-----------------------------+----------------------------------+---------------------------------+---------------------+----------------------+----------------------------+---------+---------+\n",
       "| 7a50f4f6-beec-40cd-b0d8-5e5e7a788c7a |   JakeWilson801 |                    17 |           17 |            116601 |   117376 |                 1 |                        4 |            0 |                              32.0 |              None |                1 |                       4 |           0 |                             62.0 |             None |                   3 |           False |       PT30.6740704S |                 12 |                     12 |                      590.0 |                        39 |                        0 |                       0.0 |                           0 |                               0 |                                0 |                         0.0 |                              0.0 |                               0 |                   5 |                    2 |                          0 |    True |       1 |\n",
       "| 7a50f4f6-beec-40cd-b0d8-5e5e7a788c7a |       taterbase |                     5 |            5 |             11480 |    11951 |                 1 |                        3 |            0 |                              34.0 |              None |                1 |                       3 |           0 |                             64.0 |             None |                   4 |           False |       PT18.0020486S |                  6 |                      1 |                      140.0 |                        22 |                        3 |                     135.0 |                           0 |                               0 |                                1 |                         0.0 |                              0.0 |                               0 |                   9 |                    0 |                          0 |    True |       1 |\n",
       "| 7a50f4f6-beec-40cd-b0d8-5e5e7a788c7a |      HxC B0ut2k |                    18 |           18 |            133408 |   134197 |                 1 |                        4 |            0 |                              34.0 |              None |                1 |                       4 |           0 |                             66.0 |             None |                   2 |           False |       PT30.6697393S |                 13 |                     13 |                      595.0 |                        27 |                        0 |                       0.0 |                           0 |                               0 |                                0 |                         0.0 |                              0.0 |                               0 |                   5 |                    0 |                          0 |    True |       1 |\n",
       "| 7a50f4f6-beec-40cd-b0d8-5e5e7a788c7a |     NecroLust12 |                    14 |           14 |             71925 |    72388 |                 1 |                        4 |            0 |                              64.0 |              None |                1 |                       4 |           0 |                             34.0 |             None |                   8 |           False |       PT16.2777739S |                  3 |                      2 |                      125.0 |                        13 |                        1 |                      45.0 |                           0 |                               0 |                                0 |                         0.0 |                              0.0 |                               0 |                  10 |                    1 |                          0 |   False |       0 |\n",
       "| 7a50f4f6-beec-40cd-b0d8-5e5e7a788c7a |    Centerhead01 |                     3 |            3 |              4560 |     5589 |              None |                     None |         None |                              None |              None |             None |                    None |        None |                             None |             None |                   5 |           False |       PT12.5488965S |                 11 |                      9 |                      395.0 |                        12 |                        2 |         75.00899999961257 |                           0 |                               0 |                                0 |                         0.0 |                              0.0 |                               0 |                  14 |                    0 |                          0 |   False |       0 |\n",
       "+--------------------------------------+-----------------+-----------------------+--------------+-------------------+----------+-------------------+--------------------------+--------------+-----------------------------------+-------------------+------------------+-------------------------+-------------+----------------------------------+------------------+---------------------+-----------------+---------------------+--------------------+------------------------+----------------------------+---------------------------+--------------------------+---------------------------+-----------------------------+---------------------------------+----------------------------------+-----------------------------+----------------------------------+---------------------------------+---------------------+----------------------+----------------------------+---------+---------+"
      ]
     },
     "execution_count": 10,
     "metadata": {},
     "output_type": "execute_result"
    }
   ],
   "source": [
    "%%sql\n",
    "\n",
    "select * from bootcamp.match_details_bucketed limit 5;"
   ]
  },
  {
   "cell_type": "code",
   "execution_count": 11,
   "id": "138da71b-f355-41b0-85e0-ea8b98d202b3",
   "metadata": {},
   "outputs": [
    {
     "data": {
      "text/html": [
       "<table>\n",
       "    <thead>\n",
       "        <tr>\n",
       "            <th>count(1)</th>\n",
       "        </tr>\n",
       "    </thead>\n",
       "    <tbody>\n",
       "        <tr>\n",
       "            <td>151761</td>\n",
       "        </tr>\n",
       "    </tbody>\n",
       "</table>"
      ],
      "text/plain": [
       "+----------+\n",
       "| count(1) |\n",
       "+----------+\n",
       "|   151761 |\n",
       "+----------+"
      ]
     },
     "execution_count": 11,
     "metadata": {},
     "output_type": "execute_result"
    }
   ],
   "source": [
    "%%sql\n",
    "\n",
    "select count(*) from bootcamp.match_details_bucketed;"
   ]
  },
  {
   "cell_type": "code",
   "execution_count": 12,
   "id": "da481a53-bf87-4176-9194-e0937a121f50",
   "metadata": {},
   "outputs": [
    {
     "data": {
      "text/html": [
       "<table>\n",
       "    <thead>\n",
       "        <tr>\n",
       "        </tr>\n",
       "    </thead>\n",
       "    <tbody>\n",
       "    </tbody>\n",
       "</table>"
      ],
      "text/plain": [
       "++\n",
       "||\n",
       "++\n",
       "++"
      ]
     },
     "execution_count": 12,
     "metadata": {},
     "output_type": "execute_result"
    }
   ],
   "source": [
    "%%sql\n",
    "\n",
    "DROP TABLE if exists bootcamp.matches_bucketed;"
   ]
  },
  {
   "cell_type": "code",
   "execution_count": 13,
   "id": "92c051b2-eeeb-4201-853b-f4bd91503f42",
   "metadata": {},
   "outputs": [
    {
     "data": {
      "text/html": [
       "<table>\n",
       "    <thead>\n",
       "        <tr>\n",
       "        </tr>\n",
       "    </thead>\n",
       "    <tbody>\n",
       "    </tbody>\n",
       "</table>"
      ],
      "text/plain": [
       "++\n",
       "||\n",
       "++\n",
       "++"
      ]
     },
     "execution_count": 13,
     "metadata": {},
     "output_type": "execute_result"
    }
   ],
   "source": [
    "%%sql\n",
    "CREATE TABLE bootcamp.matches_bucketed (\n",
    "   match_id STRING,\n",
    "    mapid STRING,\n",
    "    is_team_game BOOLEAN,\n",
    "    playlist_id STRING,\n",
    "    game_variant_id STRING,\n",
    "    is_match_over BOOLEAN,\n",
    "    completion_date TIMESTAMP,\n",
    "    match_duration STRING,\n",
    "    game_mode STRING,\n",
    "    map_variant_id STRING\n",
    "  ) USING iceberg PARTITIONED BY (bucket(16, match_id));"
   ]
  },
  {
   "cell_type": "code",
   "execution_count": 14,
   "id": "57572b81-0858-478a-9e10-4ffea78ae1fe",
   "metadata": {},
   "outputs": [
    {
     "data": {
      "text/html": [
       "<table>\n",
       "    <thead>\n",
       "        <tr>\n",
       "            <th>col_name</th>\n",
       "            <th>data_type</th>\n",
       "            <th>comment</th>\n",
       "        </tr>\n",
       "    </thead>\n",
       "    <tbody>\n",
       "        <tr>\n",
       "            <td>match_id</td>\n",
       "            <td>string</td>\n",
       "            <td>None</td>\n",
       "        </tr>\n",
       "        <tr>\n",
       "            <td>mapid</td>\n",
       "            <td>string</td>\n",
       "            <td>None</td>\n",
       "        </tr>\n",
       "        <tr>\n",
       "            <td>is_team_game</td>\n",
       "            <td>boolean</td>\n",
       "            <td>None</td>\n",
       "        </tr>\n",
       "        <tr>\n",
       "            <td>playlist_id</td>\n",
       "            <td>string</td>\n",
       "            <td>None</td>\n",
       "        </tr>\n",
       "        <tr>\n",
       "            <td>game_variant_id</td>\n",
       "            <td>string</td>\n",
       "            <td>None</td>\n",
       "        </tr>\n",
       "        <tr>\n",
       "            <td>is_match_over</td>\n",
       "            <td>boolean</td>\n",
       "            <td>None</td>\n",
       "        </tr>\n",
       "        <tr>\n",
       "            <td>completion_date</td>\n",
       "            <td>timestamp</td>\n",
       "            <td>None</td>\n",
       "        </tr>\n",
       "        <tr>\n",
       "            <td>match_duration</td>\n",
       "            <td>string</td>\n",
       "            <td>None</td>\n",
       "        </tr>\n",
       "        <tr>\n",
       "            <td>game_mode</td>\n",
       "            <td>string</td>\n",
       "            <td>None</td>\n",
       "        </tr>\n",
       "        <tr>\n",
       "            <td>map_variant_id</td>\n",
       "            <td>string</td>\n",
       "            <td>None</td>\n",
       "        </tr>\n",
       "        <tr>\n",
       "            <td></td>\n",
       "            <td></td>\n",
       "            <td></td>\n",
       "        </tr>\n",
       "        <tr>\n",
       "            <td># Partitioning</td>\n",
       "            <td></td>\n",
       "            <td></td>\n",
       "        </tr>\n",
       "        <tr>\n",
       "            <td>Part 0</td>\n",
       "            <td>bucket(16, match_id)</td>\n",
       "            <td></td>\n",
       "        </tr>\n",
       "    </tbody>\n",
       "</table>"
      ],
      "text/plain": [
       "+-----------------+----------------------+---------+\n",
       "|        col_name |            data_type | comment |\n",
       "+-----------------+----------------------+---------+\n",
       "|        match_id |               string |    None |\n",
       "|           mapid |               string |    None |\n",
       "|    is_team_game |              boolean |    None |\n",
       "|     playlist_id |               string |    None |\n",
       "| game_variant_id |               string |    None |\n",
       "|   is_match_over |              boolean |    None |\n",
       "| completion_date |            timestamp |    None |\n",
       "|  match_duration |               string |    None |\n",
       "|       game_mode |               string |    None |\n",
       "|  map_variant_id |               string |    None |\n",
       "|                 |                      |         |\n",
       "|  # Partitioning |                      |         |\n",
       "|          Part 0 | bucket(16, match_id) |         |\n",
       "+-----------------+----------------------+---------+"
      ]
     },
     "execution_count": 14,
     "metadata": {},
     "output_type": "execute_result"
    }
   ],
   "source": [
    "%%sql\n",
    "\n",
    "describe bootcamp.matches_bucketed;"
   ]
  },
  {
   "cell_type": "code",
   "execution_count": 15,
   "id": "1905e08d-d9c2-4a9f-a896-9e11838f521f",
   "metadata": {},
   "outputs": [],
   "source": [
    "matches = spark.read.option(\"header\", \"true\").csv(\"/home/iceberg/data/matches.csv\")\n",
    "\n",
    "(\n",
    "    matches\n",
    "    .withColumn(\"match_id\", col(\"match_id\").cast(\"string\"))\n",
    "    .withColumn(\"mapid\", col(\"mapid\").cast(\"string\"))\n",
    "    .withColumn(\"is_team_game\", col(\"is_team_game\").cast(\"boolean\"))        \n",
    "    .withColumn(\"playlist_id\", col(\"playlist_id\").cast(\"string\"))\n",
    "    .withColumn(\"game_variant_id\", col(\"game_variant_id\").cast(\"string\"))\n",
    "    .withColumn(\"is_match_over\", col(\"is_match_over\").cast(\"boolean\"))      \n",
    "    .withColumn(\"completion_date\", to_timestamp(col(\"completion_date\")))    \n",
    "    .withColumn(\"match_duration\", col(\"match_duration\").cast(\"string\"))\n",
    "    .withColumn(\"game_mode\", col(\"game_mode\").cast(\"string\"))\n",
    "    .withColumn(\"map_variant_id\", col(\"map_variant_id\").cast(\"string\"))\n",
    ").write.mode(\"append\").bucketBy(16, \"match_id\").saveAsTable(\"bootcamp.matches_bucketed\")"
   ]
  },
  {
   "cell_type": "code",
   "execution_count": 16,
   "id": "53bbadae-67f1-4ae0-a545-111a879cc824",
   "metadata": {},
   "outputs": [
    {
     "data": {
      "text/html": [
       "<table>\n",
       "    <thead>\n",
       "        <tr>\n",
       "            <th>count(1)</th>\n",
       "        </tr>\n",
       "    </thead>\n",
       "    <tbody>\n",
       "        <tr>\n",
       "            <td>24025</td>\n",
       "        </tr>\n",
       "    </tbody>\n",
       "</table>"
      ],
      "text/plain": [
       "+----------+\n",
       "| count(1) |\n",
       "+----------+\n",
       "|    24025 |\n",
       "+----------+"
      ]
     },
     "execution_count": 16,
     "metadata": {},
     "output_type": "execute_result"
    }
   ],
   "source": [
    "%%sql\n",
    "\n",
    "select count(*) from bootcamp.matches_bucketed;"
   ]
  },
  {
   "cell_type": "code",
   "execution_count": 17,
   "id": "7d884e3a-4d29-4c96-b04d-992ef1244c69",
   "metadata": {},
   "outputs": [
    {
     "data": {
      "text/html": [
       "<table>\n",
       "    <thead>\n",
       "        <tr>\n",
       "        </tr>\n",
       "    </thead>\n",
       "    <tbody>\n",
       "    </tbody>\n",
       "</table>"
      ],
      "text/plain": [
       "++\n",
       "||\n",
       "++\n",
       "++"
      ]
     },
     "execution_count": 17,
     "metadata": {},
     "output_type": "execute_result"
    }
   ],
   "source": [
    "%%sql\n",
    "\n",
    "DROP TABLE if exists bootcamp.medals_matches_players_bucketed;"
   ]
  },
  {
   "cell_type": "code",
   "execution_count": 18,
   "id": "3500b003-090e-4f4a-aef7-c9e5c6a4277a",
   "metadata": {},
   "outputs": [
    {
     "data": {
      "text/html": [
       "<table>\n",
       "    <thead>\n",
       "        <tr>\n",
       "        </tr>\n",
       "    </thead>\n",
       "    <tbody>\n",
       "    </tbody>\n",
       "</table>"
      ],
      "text/plain": [
       "++\n",
       "||\n",
       "++\n",
       "++"
      ]
     },
     "execution_count": 18,
     "metadata": {},
     "output_type": "execute_result"
    }
   ],
   "source": [
    "%%sql\n",
    "CREATE TABLE bootcamp.medals_matches_players_bucketed (\n",
    "   match_id STRING,\n",
    "    player_gamertag STRING,\n",
    "    medal_id BIGINT,\n",
    "    COUNT INT\n",
    "  ) USING iceberg PARTITIONED BY (bucket(16, match_id));"
   ]
  },
  {
   "cell_type": "code",
   "execution_count": 19,
   "id": "384c5a62-c8fa-401d-9e3a-6c2a8a78f29d",
   "metadata": {},
   "outputs": [],
   "source": [
    "medals_matches_players = spark.read.option(\"header\", \"true\").csv(\"/home/iceberg/data/medals_matches_players.csv\")\n",
    "\n",
    "(\n",
    "    medals_matches_players\n",
    "    .withColumn(\"match_id\", col(\"match_id\").cast(\"string\"))\n",
    "    .withColumn(\"player_gamertag\", col(\"player_gamertag\").cast(\"string\"))\n",
    "    .withColumn(\"medal_id\", col(\"medal_id\").cast(\"bigint\"))        \n",
    "    .withColumn(\"count\", col(\"count\").cast(\"int\"))\n",
    ").write.mode(\"append\").bucketBy(16, \"match_id\").saveAsTable(\"bootcamp.medals_matches_players_bucketed\")"
   ]
  },
  {
   "cell_type": "code",
   "execution_count": 20,
   "id": "ef86c128-cae9-46ab-9c14-01fc8d31375b",
   "metadata": {},
   "outputs": [
    {
     "data": {
      "text/html": [
       "<table>\n",
       "    <thead>\n",
       "        <tr>\n",
       "            <th>count(1)</th>\n",
       "        </tr>\n",
       "    </thead>\n",
       "    <tbody>\n",
       "        <tr>\n",
       "            <td>755229</td>\n",
       "        </tr>\n",
       "    </tbody>\n",
       "</table>"
      ],
      "text/plain": [
       "+----------+\n",
       "| count(1) |\n",
       "+----------+\n",
       "|   755229 |\n",
       "+----------+"
      ]
     },
     "execution_count": 20,
     "metadata": {},
     "output_type": "execute_result"
    }
   ],
   "source": [
    "%%sql\n",
    "\n",
    "select count(*) from bootcamp.medals_matches_players_bucketed;"
   ]
  },
  {
   "cell_type": "code",
   "execution_count": 21,
   "id": "9920bcd4-3186-4c10-92dd-4bdc5a9baad9",
   "metadata": {},
   "outputs": [
    {
     "data": {
      "text/html": [
       "<table>\n",
       "    <thead>\n",
       "        <tr>\n",
       "        </tr>\n",
       "    </thead>\n",
       "    <tbody>\n",
       "    </tbody>\n",
       "</table>"
      ],
      "text/plain": [
       "++\n",
       "||\n",
       "++\n",
       "++"
      ]
     },
     "execution_count": 21,
     "metadata": {},
     "output_type": "execute_result"
    }
   ],
   "source": [
    "%%sql\n",
    "drop table if exists bootcamp.medals"
   ]
  },
  {
   "cell_type": "code",
   "execution_count": 22,
   "id": "f4100c57-2143-460b-b428-eebe16809eb4",
   "metadata": {},
   "outputs": [
    {
     "data": {
      "text/html": [
       "<table>\n",
       "    <thead>\n",
       "        <tr>\n",
       "        </tr>\n",
       "    </thead>\n",
       "    <tbody>\n",
       "    </tbody>\n",
       "</table>"
      ],
      "text/plain": [
       "++\n",
       "||\n",
       "++\n",
       "++"
      ]
     },
     "execution_count": 22,
     "metadata": {},
     "output_type": "execute_result"
    }
   ],
   "source": [
    "%%sql\n",
    "CREATE TABLE bootcamp.medals (\n",
    "    medal_id BIGINT,\n",
    "    description STRING,\n",
    "    name STRING\n",
    "  ) USING iceberg"
   ]
  },
  {
   "cell_type": "code",
   "execution_count": 23,
   "id": "d076c722-3953-4333-a78d-cd47080c980e",
   "metadata": {},
   "outputs": [],
   "source": [
    "medals = spark.read.option(\"header\", \"true\").csv(\"/home/iceberg/data/medals.csv\").select(\"medal_id\", \"description\", \"name\")\n",
    "\n",
    "(\n",
    "    medals\n",
    "    .withColumn(\"medal_id\", col(\"medal_id\").cast(\"bigint\"))        \n",
    "    .withColumn(\"description\", col(\"description\").cast(\"string\"))\n",
    "    .withColumn(\"name\", col(\"name\").cast(\"string\"))\n",
    ").write.mode(\"append\").saveAsTable(\"bootcamp.medals\")"
   ]
  },
  {
   "cell_type": "code",
   "execution_count": 24,
   "id": "8819bb49-9aa9-4494-9c7d-a802c4ceece9",
   "metadata": {},
   "outputs": [
    {
     "data": {
      "text/html": [
       "<table>\n",
       "    <thead>\n",
       "        <tr>\n",
       "            <th>medal_id</th>\n",
       "            <th>count(1)</th>\n",
       "        </tr>\n",
       "    </thead>\n",
       "    <tbody>\n",
       "    </tbody>\n",
       "</table>"
      ],
      "text/plain": [
       "+----------+----------+\n",
       "| medal_id | count(1) |\n",
       "+----------+----------+\n",
       "+----------+----------+"
      ]
     },
     "execution_count": 24,
     "metadata": {},
     "output_type": "execute_result"
    }
   ],
   "source": [
    "%%sql\n",
    "\n",
    "-- medals\n",
    "-- medals_matches_players_bucketed\n",
    "-- matches_bucketed\n",
    "-- match_details_bucketed\n",
    "\n",
    "SELECT medal_id, count(*)\n",
    "FROM bootcamp.medals\n",
    "group by 1\n",
    "having count(*) > 1\n",
    ";"
   ]
  },
  {
   "cell_type": "code",
   "execution_count": 25,
   "id": "52f686d4-c871-4c1a-ada3-813c7728a72e",
   "metadata": {},
   "outputs": [
    {
     "data": {
      "text/html": [
       "<table>\n",
       "    <thead>\n",
       "        <tr>\n",
       "            <th>match_id</th>\n",
       "            <th>medal_id</th>\n",
       "            <th>player_gamertag</th>\n",
       "            <th>count(1)</th>\n",
       "        </tr>\n",
       "    </thead>\n",
       "    <tbody>\n",
       "    </tbody>\n",
       "</table>"
      ],
      "text/plain": [
       "+----------+----------+-----------------+----------+\n",
       "| match_id | medal_id | player_gamertag | count(1) |\n",
       "+----------+----------+-----------------+----------+\n",
       "+----------+----------+-----------------+----------+"
      ]
     },
     "execution_count": 25,
     "metadata": {},
     "output_type": "execute_result"
    }
   ],
   "source": [
    "%%sql\n",
    "-- matches_bucketed\n",
    "-- match_details_bucketed\n",
    "\n",
    "SELECT match_id, medal_id, player_gamertag, count(*)\n",
    "FROM bootcamp.medals_matches_players_bucketed\n",
    "group by 1,2,3\n",
    "having count(*) > 1\n",
    ";"
   ]
  },
  {
   "cell_type": "code",
   "execution_count": 26,
   "id": "a085de33-fc9c-4c87-977c-13e780129483",
   "metadata": {},
   "outputs": [
    {
     "data": {
      "text/html": [
       "<table>\n",
       "    <thead>\n",
       "        <tr>\n",
       "            <th>match_id</th>\n",
       "            <th>count(1)</th>\n",
       "        </tr>\n",
       "    </thead>\n",
       "    <tbody>\n",
       "    </tbody>\n",
       "</table>"
      ],
      "text/plain": [
       "+----------+----------+\n",
       "| match_id | count(1) |\n",
       "+----------+----------+\n",
       "+----------+----------+"
      ]
     },
     "execution_count": 26,
     "metadata": {},
     "output_type": "execute_result"
    }
   ],
   "source": [
    "%%sql\n",
    "-- match_details_bucketed\n",
    "\n",
    "SELECT match_id, count(*)\n",
    "FROM bootcamp.matches_bucketed\n",
    "group by 1\n",
    "having count(*) > 1\n",
    ";"
   ]
  },
  {
   "cell_type": "code",
   "execution_count": 27,
   "id": "eb1f1269-c849-4d4d-83e3-8d3930b662b9",
   "metadata": {},
   "outputs": [
    {
     "data": {
      "text/html": [
       "<table>\n",
       "    <thead>\n",
       "        <tr>\n",
       "            <th>match_id</th>\n",
       "            <th>player_gamertag</th>\n",
       "            <th>count(1)</th>\n",
       "        </tr>\n",
       "    </thead>\n",
       "    <tbody>\n",
       "    </tbody>\n",
       "</table>"
      ],
      "text/plain": [
       "+----------+-----------------+----------+\n",
       "| match_id | player_gamertag | count(1) |\n",
       "+----------+-----------------+----------+\n",
       "+----------+-----------------+----------+"
      ]
     },
     "execution_count": 27,
     "metadata": {},
     "output_type": "execute_result"
    }
   ],
   "source": [
    "%%sql\n",
    "\n",
    "SELECT match_id, player_gamertag, count(*)\n",
    "FROM bootcamp.match_details_bucketed\n",
    "group by 1,2\n",
    "having count(*) > 1\n",
    ";"
   ]
  },
  {
   "cell_type": "code",
   "execution_count": 28,
   "id": "99bf92b0-ac93-408b-b6cc-914cf73b8932",
   "metadata": {},
   "outputs": [],
   "source": [
    "matches_bucketed = spark.table(\"bootcamp.matches_bucketed\")\n",
    "medals = spark.table(\"bootcamp.medals\")\n",
    "match_details_bucketed = spark.table(\"bootcamp.match_details_bucketed\")\n",
    "medals_matches_players_bucketed = spark.table(\"bootcamp.medals_matches_players_bucketed\")"
   ]
  },
  {
   "cell_type": "code",
   "execution_count": 29,
   "id": "7ae45140-7c60-46d2-8ab6-ef312488cb90",
   "metadata": {},
   "outputs": [
    {
     "name": "stderr",
     "output_type": "stream",
     "text": [
      "                                                                                "
     ]
    },
    {
     "name": "stdout",
     "output_type": "stream",
     "text": [
      "+--------+--------+---------------+---+\n",
      "|match_id|medal_id|player_gamertag|cnt|\n",
      "+--------+--------+---------------+---+\n",
      "+--------+--------+---------------+---+\n",
      "\n"
     ]
    }
   ],
   "source": [
    "joined_dataset = (\n",
    "    match_details_bucketed.alias(\"mdb\")\n",
    "    .join(medals_matches_players_bucketed.alias(\"mmp\"), \"match_id\", \"inner\")\n",
    "    .join(matches_bucketed.alias(\"mb\"), \"match_id\", \"inner\")\n",
    "    .select (\n",
    "        \"mb.match_id\"\n",
    "        , \"mdb.player_gamertag\"\n",
    "        , \"mdb.player_total_kills\"\n",
    "        , \"mb.playlist_id\"\n",
    "        , \"mb.mapid\"\n",
    "        , \"mmp.medal_id\"\n",
    "        , \"mmp.count\"\n",
    "    )\n",
    "    .groupBy(\n",
    "        \"mb.match_id\"\n",
    "        , \"mdb.player_gamertag\"\n",
    "        , \"mdb.player_total_kills\"\n",
    "        , \"mb.playlist_id\"\n",
    "        , \"mb.mapid\"\n",
    "        , \"mmp.medal_id\"\n",
    "    )\n",
    "    .agg(\n",
    "        F.sum(\"mmp.count\").alias(\"num_medals\")\n",
    "    )\n",
    ")\n",
    "\n",
    "(\n",
    "    joined_dataset.groupBy(\"mb.match_id\", \"mmp.medal_id\", \"mdb.player_gamertag\")\n",
    "    .agg(\n",
    "        F.count(\"*\").alias(\"cnt\")\n",
    "    )\n",
    "    .filter(F.col(\"cnt\") > 1)\n",
    ").show(5, truncate=False)\n",
    "\n",
    "\n",
    "# spark.sql(\"\"\"\n",
    "#     SELECT *\n",
    "#     FROM bootcamp.match_details_bucketed mdb JOIN bootcamp.medals_matches_players_bucketed mmp\n",
    "#     ON mdb.match_id = mmp.match_id\n",
    "#     JOIN bootcamp.matches_bucketed mb\n",
    "#     on mdb.match_id = mb.match_id\n",
    "# \"\"\").explain(\"FORMATTED\")"
   ]
  },
  {
   "cell_type": "code",
   "execution_count": 30,
   "id": "287f7ce8-ecc5-4776-ba17-1cf5287be0cf",
   "metadata": {},
   "outputs": [
    {
     "name": "stdout",
     "output_type": "stream",
     "text": [
      "+------------------------------------+---------------+------------------+------------------------------------+------------------------------------+----------+----------+\n",
      "|match_id                            |player_gamertag|player_total_kills|playlist_id                         |mapid                               |medal_id  |num_medals|\n",
      "+------------------------------------+---------------+------------------+------------------------------------+------------------------------------+----------+----------+\n",
      "|1f2eb695-282f-42c3-b178-0476157bcc3c|Pakacorn       |7                 |f72e0ef0-7c4a-4307-af78-8e38dac3fdba|c7805740-f206-11e4-982c-24be05e24f7e|3261908037|31        |\n",
      "+------------------------------------+---------------+------------------+------------------------------------+------------------------------------+----------+----------+\n",
      "\n"
     ]
    }
   ],
   "source": [
    "(\n",
    "    joined_dataset.filter (\n",
    "        (F.col(\"match_id\") == '1f2eb695-282f-42c3-b178-0476157bcc3c')\n",
    "        & (F.col(\"medal_id\") == '3261908037')\n",
    "        & (F.col(\"player_gamertag\") == 'Pakacorn')\n",
    ")\n",
    ").show(5, truncate=False)"
   ]
  },
  {
   "cell_type": "code",
   "execution_count": 31,
   "id": "f968e1d1-ed9d-4257-8da7-087c62f01092",
   "metadata": {},
   "outputs": [
    {
     "name": "stderr",
     "output_type": "stream",
     "text": [
      "[Stage 59:====>                                                   (1 + 12) / 13]"
     ]
    },
    {
     "name": "stdout",
     "output_type": "stream",
     "text": [
      "+---------------+---------+\n",
      "|player_gamertag|avg_kills|\n",
      "+---------------+---------+\n",
      "|   gimpinator14|    109.0|\n",
      "+---------------+---------+\n",
      "\n"
     ]
    },
    {
     "name": "stderr",
     "output_type": "stream",
     "text": [
      "                                                                                "
     ]
    }
   ],
   "source": [
    "(\n",
    "joined_dataset.groupBy(\"player_gamertag\")\n",
    "    .agg(\n",
    "        F.avg(\"player_total_kills\").alias(\"avg_kills\")\n",
    "    )\n",
    "    .orderBy(F.desc('avg_kills'))\n",
    "    .limit(1)\n",
    ").show()\n",
    "\n",
    "# gimpinator14\n",
    "# (\n",
    "# match_details_bucketed.groupBy(\"player_gamertag\")\n",
    "#     .agg(\n",
    "#         F.avg(\"player_total_kills\").alias(\"avg_kills\")\n",
    "#     )\n",
    "#     .orderBy(F.desc('avg_kills'))\n",
    "#     .limit(1)\n",
    "# ).show()"
   ]
  },
  {
   "cell_type": "code",
   "execution_count": 32,
   "id": "f60a06a6-269b-4075-a07b-0f8f9dfd4eaa",
   "metadata": {},
   "outputs": [
    {
     "name": "stderr",
     "output_type": "stream",
     "text": [
      "[Stage 67:>                                                       (0 + 12) / 13]"
     ]
    },
    {
     "name": "stdout",
     "output_type": "stream",
     "text": [
      "+------------------------------------+----------+\n",
      "|playlist_id                         |num_played|\n",
      "+------------------------------------+----------+\n",
      "|f72e0ef0-7c4a-4307-af78-8e38dac3fdba|818439    |\n",
      "+------------------------------------+----------+\n",
      "\n"
     ]
    },
    {
     "name": "stderr",
     "output_type": "stream",
     "text": [
      "                                                                                "
     ]
    }
   ],
   "source": [
    "(\n",
    "joined_dataset.groupBy(\"playlist_id\")\n",
    "    .agg(\n",
    "        F.count(\"*\").alias(\"num_played\")\n",
    "    )\n",
    "    .orderBy(F.desc('num_played'))\n",
    "    .limit(1)\n",
    ").show(truncate=False)\n",
    "\n",
    "# f72e0ef0-7c4a-4307-af78-8e38dac3fdba\n",
    "# (\n",
    "# matches_bucketed.groupBy(\"playlist_id\")\n",
    "#     .agg(\n",
    "#         F.count(\"*\").alias(\"num_played\")\n",
    "#     )\n",
    "#     .orderBy(F.desc('num_played'))\n",
    "#     .limit(1)\n",
    "# ).show(truncate=False)"
   ]
  },
  {
   "cell_type": "code",
   "execution_count": 33,
   "id": "42a07f26-264a-4440-9d62-8fe5b055fe09",
   "metadata": {},
   "outputs": [
    {
     "name": "stderr",
     "output_type": "stream",
     "text": [
      "[Stage 73:==========================================>             (12 + 4) / 16]"
     ]
    },
    {
     "name": "stdout",
     "output_type": "stream",
     "text": [
      "+------------------------------------+----------+\n",
      "|mapid                               |num_played|\n",
      "+------------------------------------+----------+\n",
      "|c7edbf0f-f206-11e4-aa52-24be05e24f7e|748924    |\n",
      "+------------------------------------+----------+\n",
      "\n"
     ]
    },
    {
     "name": "stderr",
     "output_type": "stream",
     "text": [
      "                                                                                "
     ]
    }
   ],
   "source": [
    "(\n",
    "joined_dataset.groupBy(\"mapid\")\n",
    "    .agg(\n",
    "        F.count(\"*\").alias(\"num_played\")\n",
    "    )\n",
    "    .orderBy(F.desc('num_played'))\n",
    "    .limit(1)\n",
    ").show(truncate=False)\n",
    "\n",
    "# c7edbf0f-f206-11e4-aa52-24be05e24f7e\n",
    "# (\n",
    "# matches_bucketed.groupBy(\"mapid\")\n",
    "#     .agg(\n",
    "#         F.count(\"*\").alias(\"num_played\")\n",
    "#     )\n",
    "#     .orderBy(F.desc('num_played'))\n",
    "#     .limit(1)\n",
    "# ).show(truncate=False)"
   ]
  },
  {
   "cell_type": "code",
   "execution_count": 34,
   "id": "f3669e1d-b99c-4d81-8a53-f11ba2004a02",
   "metadata": {},
   "outputs": [
    {
     "name": "stderr",
     "output_type": "stream",
     "text": [
      "[Stage 84:==========================================>             (12 + 4) / 16]"
     ]
    },
    {
     "name": "stdout",
     "output_type": "stream",
     "text": [
      "+------------------------------------+------------------+-----+---------------------------------------------------------+\n",
      "|mapid                               |num_medals_per_map|name |description                                              |\n",
      "+------------------------------------+------------------+-----+---------------------------------------------------------+\n",
      "|caacb800-f206-11e4-81ab-24be05e24f7e|14380             |Plaza|Promesa’s streets were no stranger to organized violence.|\n",
      "+------------------------------------+------------------+-----+---------------------------------------------------------+\n",
      "\n"
     ]
    },
    {
     "name": "stderr",
     "output_type": "stream",
     "text": [
      "                                                                                "
     ]
    }
   ],
   "source": [
    "# caacb800-f206-11e4-81ab-24be05e24f7e|1931              |Plaza|Promesa’s streets were no stranger to organized violence.|\n",
    "\n",
    "(\n",
    "medals.alias(\"m\").filter(\"name = 'Killing Spree'\")\n",
    "    .join(joined_dataset, \"medal_id\")\n",
    "    .groupBy(\"mapid\")\n",
    "    .agg(\n",
    "         F.sum(\"num_medals\").alias(\"num_medals_per_map\")\n",
    "    )\n",
    "    .orderBy(F.desc(\"num_medals_per_map\"))\n",
    "    .join(spark.read.option(\"header\", \"true\").csv(\"/home/iceberg/data/maps.csv\"), 'mapid')\n",
    "    .limit(1)\n",
    ").show(truncate=False)\n",
    "\n",
    "# (\n",
    "# medals.filter(\"name = 'Killing Spree'\")\n",
    "#     .join(medals_matches_players_bucketed, \"medal_id\")\n",
    "#     .join(matches_bucketed, \"match_id\")\n",
    "#     .groupBy(\"mapid\")\n",
    "#     .agg(\n",
    "#         F.sum(\"count\").alias(\"num_medals_per_map\")\n",
    "#     )\n",
    "#     .orderBy(F.desc(\"num_medals_per_map\"))\n",
    "#     .join(spark.read.option(\"header\", \"true\").csv(\"/home/iceberg/data/maps.csv\"), 'mapid')\n",
    "#     .limit(1)\n",
    "# ).show(truncate=False)"
   ]
  },
  {
   "cell_type": "code",
   "execution_count": 35,
   "id": "76c80c19-e5c6-4900-907a-c02c0ebd4032",
   "metadata": {},
   "outputs": [
    {
     "data": {
      "text/plain": [
       "[('match_id', 'string'),\n",
       " ('player_gamertag', 'string'),\n",
       " ('player_total_kills', 'int'),\n",
       " ('playlist_id', 'string'),\n",
       " ('mapid', 'string'),\n",
       " ('medal_id', 'bigint'),\n",
       " ('num_medals', 'bigint')]"
      ]
     },
     "execution_count": 35,
     "metadata": {},
     "output_type": "execute_result"
    }
   ],
   "source": [
    "joined_dataset.dtypes"
   ]
  },
  {
   "cell_type": "code",
   "execution_count": 36,
   "id": "20ac7635-4ad6-4115-b00a-6e08be16e66f",
   "metadata": {},
   "outputs": [
    {
     "data": {
      "text/html": [
       "<table>\n",
       "    <thead>\n",
       "        <tr>\n",
       "        </tr>\n",
       "    </thead>\n",
       "    <tbody>\n",
       "    </tbody>\n",
       "</table>"
      ],
      "text/plain": [
       "++\n",
       "||\n",
       "++\n",
       "++"
      ]
     },
     "execution_count": 36,
     "metadata": {},
     "output_type": "execute_result"
    }
   ],
   "source": [
    "%%sql\n",
    "\n",
    "drop table if exists bootcamp.joined_dataset_bucketed"
   ]
  },
  {
   "cell_type": "code",
   "execution_count": 37,
   "id": "5e02840b-4e10-42f8-a465-79b680ddaf52",
   "metadata": {},
   "outputs": [
    {
     "data": {
      "text/html": [
       "<table>\n",
       "    <thead>\n",
       "        <tr>\n",
       "        </tr>\n",
       "    </thead>\n",
       "    <tbody>\n",
       "    </tbody>\n",
       "</table>"
      ],
      "text/plain": [
       "++\n",
       "||\n",
       "++\n",
       "++"
      ]
     },
     "execution_count": 37,
     "metadata": {},
     "output_type": "execute_result"
    }
   ],
   "source": [
    "%%sql\n",
    "CREATE TABLE bootcamp.joined_dataset_bucketed (\n",
    "   match_id string\n",
    " ,player_gamertag string\n",
    " ,player_total_kills int\n",
    " ,playlist_id string\n",
    " ,mapid string\n",
    " ,medal_id bigint\n",
    " ,num_medals bigint\n",
    "  ) USING iceberg PARTITIONED BY (bucket(16, match_id));"
   ]
  },
  {
   "cell_type": "code",
   "execution_count": 38,
   "id": "cc9165e7-330c-4f97-ba28-5461df81d8ed",
   "metadata": {},
   "outputs": [
    {
     "name": "stderr",
     "output_type": "stream",
     "text": [
      "                                                                                "
     ]
    }
   ],
   "source": [
    "joined_dataset.write.mode(\"append\").bucketBy(16, \"match_id\").saveAsTable(\"bootcamp.joined_dataset_bucketed\")"
   ]
  },
  {
   "cell_type": "code",
   "execution_count": 39,
   "id": "1276a9d2-9caa-4125-8274-64766a6c5ef2",
   "metadata": {},
   "outputs": [
    {
     "data": {
      "text/html": [
       "<table>\n",
       "    <thead>\n",
       "        <tr>\n",
       "            <th>count(1)</th>\n",
       "        </tr>\n",
       "    </thead>\n",
       "    <tbody>\n",
       "        <tr>\n",
       "            <td>2664603</td>\n",
       "        </tr>\n",
       "    </tbody>\n",
       "</table>"
      ],
      "text/plain": [
       "+----------+\n",
       "| count(1) |\n",
       "+----------+\n",
       "|  2664603 |\n",
       "+----------+"
      ]
     },
     "execution_count": 39,
     "metadata": {},
     "output_type": "execute_result"
    }
   ],
   "source": [
    "%%sql\n",
    "\n",
    "select count(*) from bootcamp.joined_dataset_bucketed"
   ]
  },
  {
   "cell_type": "code",
   "execution_count": 40,
   "id": "6d767771-ed98-40ec-86e6-cd6edece5b1f",
   "metadata": {},
   "outputs": [
    {
     "data": {
      "text/html": [
       "<table>\n",
       "    <thead>\n",
       "        <tr>\n",
       "            <th>col_name</th>\n",
       "            <th>data_type</th>\n",
       "            <th>comment</th>\n",
       "        </tr>\n",
       "    </thead>\n",
       "    <tbody>\n",
       "        <tr>\n",
       "            <td>match_id</td>\n",
       "            <td>string</td>\n",
       "            <td>None</td>\n",
       "        </tr>\n",
       "        <tr>\n",
       "            <td>player_gamertag</td>\n",
       "            <td>string</td>\n",
       "            <td>None</td>\n",
       "        </tr>\n",
       "        <tr>\n",
       "            <td>player_total_kills</td>\n",
       "            <td>int</td>\n",
       "            <td>None</td>\n",
       "        </tr>\n",
       "        <tr>\n",
       "            <td>playlist_id</td>\n",
       "            <td>string</td>\n",
       "            <td>None</td>\n",
       "        </tr>\n",
       "        <tr>\n",
       "            <td>mapid</td>\n",
       "            <td>string</td>\n",
       "            <td>None</td>\n",
       "        </tr>\n",
       "        <tr>\n",
       "            <td>medal_id</td>\n",
       "            <td>bigint</td>\n",
       "            <td>None</td>\n",
       "        </tr>\n",
       "        <tr>\n",
       "            <td>num_medals</td>\n",
       "            <td>bigint</td>\n",
       "            <td>None</td>\n",
       "        </tr>\n",
       "        <tr>\n",
       "            <td></td>\n",
       "            <td></td>\n",
       "            <td></td>\n",
       "        </tr>\n",
       "        <tr>\n",
       "            <td># Partitioning</td>\n",
       "            <td></td>\n",
       "            <td></td>\n",
       "        </tr>\n",
       "        <tr>\n",
       "            <td>Part 0</td>\n",
       "            <td>bucket(16, match_id)</td>\n",
       "            <td></td>\n",
       "        </tr>\n",
       "    </tbody>\n",
       "</table>"
      ],
      "text/plain": [
       "+--------------------+----------------------+---------+\n",
       "|           col_name |            data_type | comment |\n",
       "+--------------------+----------------------+---------+\n",
       "|           match_id |               string |    None |\n",
       "|    player_gamertag |               string |    None |\n",
       "| player_total_kills |                  int |    None |\n",
       "|        playlist_id |               string |    None |\n",
       "|              mapid |               string |    None |\n",
       "|           medal_id |               bigint |    None |\n",
       "|         num_medals |               bigint |    None |\n",
       "|                    |                      |         |\n",
       "|     # Partitioning |                      |         |\n",
       "|             Part 0 | bucket(16, match_id) |         |\n",
       "+--------------------+----------------------+---------+"
      ]
     },
     "execution_count": 40,
     "metadata": {},
     "output_type": "execute_result"
    }
   ],
   "source": [
    "%%sql\n",
    "\n",
    "describe bootcamp.joined_dataset_bucketed"
   ]
  },
  {
   "cell_type": "code",
   "execution_count": 41,
   "id": "16c044f1-5687-4f1d-8a3d-1a9015add241",
   "metadata": {},
   "outputs": [
    {
     "data": {
      "text/html": [
       "<table>\n",
       "    <thead>\n",
       "        <tr>\n",
       "        </tr>\n",
       "    </thead>\n",
       "    <tbody>\n",
       "    </tbody>\n",
       "</table>"
      ],
      "text/plain": [
       "++\n",
       "||\n",
       "++\n",
       "++"
      ]
     },
     "execution_count": 41,
     "metadata": {},
     "output_type": "execute_result"
    }
   ],
   "source": [
    "%%sql\n",
    "\n",
    "drop table if exists bootcamp.joined_dataset_bucketed_sorted"
   ]
  },
  {
   "cell_type": "code",
   "execution_count": 42,
   "id": "98e66bc2-1e06-4264-8b83-5f8f965a90a7",
   "metadata": {},
   "outputs": [
    {
     "data": {
      "text/html": [
       "<table>\n",
       "    <thead>\n",
       "        <tr>\n",
       "        </tr>\n",
       "    </thead>\n",
       "    <tbody>\n",
       "    </tbody>\n",
       "</table>"
      ],
      "text/plain": [
       "++\n",
       "||\n",
       "++\n",
       "++"
      ]
     },
     "execution_count": 42,
     "metadata": {},
     "output_type": "execute_result"
    }
   ],
   "source": [
    "%%sql\n",
    "CREATE TABLE bootcamp.joined_dataset_bucketed_sorted (\n",
    "   match_id string\n",
    " ,player_gamertag string\n",
    " ,player_total_kills int\n",
    " ,playlist_id string\n",
    " ,mapid string\n",
    " ,medal_id bigint\n",
    " ,num_medals bigint\n",
    "  ) USING iceberg PARTITIONED BY (bucket(16, match_id));"
   ]
  },
  {
   "cell_type": "code",
   "execution_count": 43,
   "id": "0c3e2a9d-03a2-4a29-93a3-e7af2056bdaf",
   "metadata": {},
   "outputs": [
    {
     "name": "stderr",
     "output_type": "stream",
     "text": [
      "                                                                                "
     ]
    }
   ],
   "source": [
    "sorted_joined_dataset = joined_dataset.sortWithinPartitions(\"playlist_id\", \"mapid\")\n",
    "\n",
    "sorted_joined_dataset.write.mode(\"append\").bucketBy(16, \"match_id\").saveAsTable(\"bootcamp.joined_dataset_bucketed_sorted\")"
   ]
  },
  {
   "cell_type": "code",
   "execution_count": 44,
   "id": "164afb52-ceec-45c4-b589-5bf473a18358",
   "metadata": {},
   "outputs": [
    {
     "data": {
      "text/html": [
       "<table>\n",
       "    <thead>\n",
       "        <tr>\n",
       "            <th>size</th>\n",
       "            <th>num_files</th>\n",
       "            <th>unsorted</th>\n",
       "        </tr>\n",
       "    </thead>\n",
       "    <tbody>\n",
       "        <tr>\n",
       "            <td>12743414</td>\n",
       "            <td>16</td>\n",
       "            <td>unsorted</td>\n",
       "        </tr>\n",
       "        <tr>\n",
       "            <td>12121463</td>\n",
       "            <td>16</td>\n",
       "            <td>sorted</td>\n",
       "        </tr>\n",
       "    </tbody>\n",
       "</table>"
      ],
      "text/plain": [
       "+----------+-----------+----------+\n",
       "|     size | num_files | unsorted |\n",
       "+----------+-----------+----------+\n",
       "| 12743414 |        16 | unsorted |\n",
       "| 12121463 |        16 |   sorted |\n",
       "+----------+-----------+----------+"
      ]
     },
     "execution_count": 44,
     "metadata": {},
     "output_type": "execute_result"
    }
   ],
   "source": [
    "%%sql\n",
    "SELECT SUM(file_size_in_bytes) as size, COUNT(1) as num_files, 'unsorted' \n",
    "FROM bootcamp.joined_dataset_bucketed.files\n",
    "    union all\n",
    "SELECT SUM(file_size_in_bytes) as size, COUNT(1) as num_files, 'sorted' \n",
    "FROM bootcamp.joined_dataset_bucketed_sorted.files"
   ]
  }
 ],
 "metadata": {
  "kernelspec": {
   "display_name": "Python 3 (ipykernel)",
   "language": "python",
   "name": "python3"
  },
  "language_info": {
   "codemirror_mode": {
    "name": "ipython",
    "version": 3
   },
   "file_extension": ".py",
   "mimetype": "text/x-python",
   "name": "python",
   "nbconvert_exporter": "python",
   "pygments_lexer": "ipython3",
   "version": "3.10.16"
  }
 },
 "nbformat": 4,
 "nbformat_minor": 5
}
