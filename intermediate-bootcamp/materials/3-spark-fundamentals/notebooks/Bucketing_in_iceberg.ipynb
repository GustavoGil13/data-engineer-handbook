{
 "cells": [
  {
   "cell_type": "code",
   "execution_count": 1,
   "id": "b5598d24-759e-4189-b4f9-230b8bf42ed4",
   "metadata": {},
   "outputs": [],
   "source": [
    "spark.conf.set(\"spark.sql.autoBroadcastJoinThreshold\", \"-1\")"
   ]
  },
  {
   "cell_type": "code",
   "execution_count": 2,
   "id": "3eb54177-ab87-4b47-84c3-b04e6fe8f261",
   "metadata": {},
   "outputs": [
    {
     "ename": "AnalysisException",
     "evalue": "[TABLE_OR_VIEW_NOT_FOUND] The table or view `bootcamp`.`bucketed_match_details` cannot be found. Verify the spelling and correctness of the schema and catalog.\nIf you did not qualify the name with a schema, verify the current_schema() output, or qualify the name with the correct schema and catalog.\nTo tolerate the error on drop use DROP VIEW IF EXISTS or DROP TABLE IF EXISTS.;\n'UnresolvedRelation [bootcamp, bucketed_match_details], [], false\n",
     "output_type": "error",
     "traceback": [
      "\u001b[0;31m---------------------------------------------------------------------------\u001b[0m",
      "\u001b[0;31mAnalysisException\u001b[0m                         Traceback (most recent call last)",
      "Cell \u001b[0;32mIn[2], line 23\u001b[0m\n\u001b[1;32m      9\u001b[0m spark\u001b[38;5;241m.\u001b[39mconf\u001b[38;5;241m.\u001b[39mset(\u001b[38;5;124m\"\u001b[39m\u001b[38;5;124mspark.sql.iceberg.planning.preserve-data-grouping\u001b[39m\u001b[38;5;124m\"\u001b[39m, \u001b[38;5;124m\"\u001b[39m\u001b[38;5;124mtrue\u001b[39m\u001b[38;5;124m\"\u001b[39m)\n\u001b[1;32m     11\u001b[0m \u001b[38;5;66;03m# When enabled, try to eliminate shuffle if one side of the join has missing partition values from the other side.\u001b[39;00m\n\u001b[1;32m     12\u001b[0m \u001b[38;5;66;03m# spark.conf.set(\"spark.sql.sources.v2.bucketing.pushPartValues.enabled\", \"true\")\u001b[39;00m\n\u001b[1;32m     13\u001b[0m \n\u001b[0;32m   (...)\u001b[0m\n\u001b[1;32m     21\u001b[0m \n\u001b[1;32m     22\u001b[0m \u001b[38;5;66;03m# Read bucketed tables\u001b[39;00m\n\u001b[0;32m---> 23\u001b[0m bucketed_match_details_df \u001b[38;5;241m=\u001b[39m \u001b[43mspark\u001b[49m\u001b[38;5;241;43m.\u001b[39;49m\u001b[43mread\u001b[49m\u001b[38;5;241;43m.\u001b[39;49m\u001b[43mtable\u001b[49m\u001b[43m(\u001b[49m\u001b[38;5;124;43m\"\u001b[39;49m\u001b[38;5;124;43mbootcamp.bucketed_match_details\u001b[39;49m\u001b[38;5;124;43m\"\u001b[39;49m\u001b[43m)\u001b[49m\n\u001b[1;32m     24\u001b[0m bucketed_matches_df \u001b[38;5;241m=\u001b[39m spark\u001b[38;5;241m.\u001b[39mread\u001b[38;5;241m.\u001b[39mtable(\u001b[38;5;124m\"\u001b[39m\u001b[38;5;124mbootcamp.bucketed_matches\u001b[39m\u001b[38;5;124m\"\u001b[39m)\n\u001b[1;32m     26\u001b[0m \u001b[38;5;66;03m# Filter out null values from match_id columns\u001b[39;00m\n",
      "File \u001b[0;32m/opt/spark/python/pyspark/sql/readwriter.py:484\u001b[0m, in \u001b[0;36mDataFrameReader.table\u001b[0;34m(self, tableName)\u001b[0m\n\u001b[1;32m    450\u001b[0m \u001b[38;5;28;01mdef\u001b[39;00m\u001b[38;5;250m \u001b[39m\u001b[38;5;21mtable\u001b[39m(\u001b[38;5;28mself\u001b[39m, tableName: \u001b[38;5;28mstr\u001b[39m) \u001b[38;5;241m-\u001b[39m\u001b[38;5;241m>\u001b[39m \u001b[38;5;124m\"\u001b[39m\u001b[38;5;124mDataFrame\u001b[39m\u001b[38;5;124m\"\u001b[39m:\n\u001b[1;32m    451\u001b[0m \u001b[38;5;250m    \u001b[39m\u001b[38;5;124;03m\"\"\"Returns the specified table as a :class:`DataFrame`.\u001b[39;00m\n\u001b[1;32m    452\u001b[0m \n\u001b[1;32m    453\u001b[0m \u001b[38;5;124;03m    .. versionadded:: 1.4.0\u001b[39;00m\n\u001b[0;32m   (...)\u001b[0m\n\u001b[1;32m    482\u001b[0m \u001b[38;5;124;03m    >>> _ = spark.sql(\"DROP TABLE tblA\")\u001b[39;00m\n\u001b[1;32m    483\u001b[0m \u001b[38;5;124;03m    \"\"\"\u001b[39;00m\n\u001b[0;32m--> 484\u001b[0m     \u001b[38;5;28;01mreturn\u001b[39;00m \u001b[38;5;28mself\u001b[39m\u001b[38;5;241m.\u001b[39m_df(\u001b[38;5;28;43mself\u001b[39;49m\u001b[38;5;241;43m.\u001b[39;49m\u001b[43m_jreader\u001b[49m\u001b[38;5;241;43m.\u001b[39;49m\u001b[43mtable\u001b[49m\u001b[43m(\u001b[49m\u001b[43mtableName\u001b[49m\u001b[43m)\u001b[49m)\n",
      "File \u001b[0;32m/opt/spark/python/lib/py4j-0.10.9.7-src.zip/py4j/java_gateway.py:1322\u001b[0m, in \u001b[0;36mJavaMember.__call__\u001b[0;34m(self, *args)\u001b[0m\n\u001b[1;32m   1316\u001b[0m command \u001b[38;5;241m=\u001b[39m proto\u001b[38;5;241m.\u001b[39mCALL_COMMAND_NAME \u001b[38;5;241m+\u001b[39m\\\n\u001b[1;32m   1317\u001b[0m     \u001b[38;5;28mself\u001b[39m\u001b[38;5;241m.\u001b[39mcommand_header \u001b[38;5;241m+\u001b[39m\\\n\u001b[1;32m   1318\u001b[0m     args_command \u001b[38;5;241m+\u001b[39m\\\n\u001b[1;32m   1319\u001b[0m     proto\u001b[38;5;241m.\u001b[39mEND_COMMAND_PART\n\u001b[1;32m   1321\u001b[0m answer \u001b[38;5;241m=\u001b[39m \u001b[38;5;28mself\u001b[39m\u001b[38;5;241m.\u001b[39mgateway_client\u001b[38;5;241m.\u001b[39msend_command(command)\n\u001b[0;32m-> 1322\u001b[0m return_value \u001b[38;5;241m=\u001b[39m \u001b[43mget_return_value\u001b[49m\u001b[43m(\u001b[49m\n\u001b[1;32m   1323\u001b[0m \u001b[43m    \u001b[49m\u001b[43manswer\u001b[49m\u001b[43m,\u001b[49m\u001b[43m \u001b[49m\u001b[38;5;28;43mself\u001b[39;49m\u001b[38;5;241;43m.\u001b[39;49m\u001b[43mgateway_client\u001b[49m\u001b[43m,\u001b[49m\u001b[43m \u001b[49m\u001b[38;5;28;43mself\u001b[39;49m\u001b[38;5;241;43m.\u001b[39;49m\u001b[43mtarget_id\u001b[49m\u001b[43m,\u001b[49m\u001b[43m \u001b[49m\u001b[38;5;28;43mself\u001b[39;49m\u001b[38;5;241;43m.\u001b[39;49m\u001b[43mname\u001b[49m\u001b[43m)\u001b[49m\n\u001b[1;32m   1325\u001b[0m \u001b[38;5;28;01mfor\u001b[39;00m temp_arg \u001b[38;5;129;01min\u001b[39;00m temp_args:\n\u001b[1;32m   1326\u001b[0m     \u001b[38;5;28;01mif\u001b[39;00m \u001b[38;5;28mhasattr\u001b[39m(temp_arg, \u001b[38;5;124m\"\u001b[39m\u001b[38;5;124m_detach\u001b[39m\u001b[38;5;124m\"\u001b[39m):\n",
      "File \u001b[0;32m/opt/spark/python/pyspark/errors/exceptions/captured.py:185\u001b[0m, in \u001b[0;36mcapture_sql_exception.<locals>.deco\u001b[0;34m(*a, **kw)\u001b[0m\n\u001b[1;32m    181\u001b[0m converted \u001b[38;5;241m=\u001b[39m convert_exception(e\u001b[38;5;241m.\u001b[39mjava_exception)\n\u001b[1;32m    182\u001b[0m \u001b[38;5;28;01mif\u001b[39;00m \u001b[38;5;129;01mnot\u001b[39;00m \u001b[38;5;28misinstance\u001b[39m(converted, UnknownException):\n\u001b[1;32m    183\u001b[0m     \u001b[38;5;66;03m# Hide where the exception came from that shows a non-Pythonic\u001b[39;00m\n\u001b[1;32m    184\u001b[0m     \u001b[38;5;66;03m# JVM exception message.\u001b[39;00m\n\u001b[0;32m--> 185\u001b[0m     \u001b[38;5;28;01mraise\u001b[39;00m converted \u001b[38;5;28;01mfrom\u001b[39;00m\u001b[38;5;250m \u001b[39m\u001b[38;5;28;01mNone\u001b[39;00m\n\u001b[1;32m    186\u001b[0m \u001b[38;5;28;01melse\u001b[39;00m:\n\u001b[1;32m    187\u001b[0m     \u001b[38;5;28;01mraise\u001b[39;00m\n",
      "\u001b[0;31mAnalysisException\u001b[0m: [TABLE_OR_VIEW_NOT_FOUND] The table or view `bootcamp`.`bucketed_match_details` cannot be found. Verify the spelling and correctness of the schema and catalog.\nIf you did not qualify the name with a schema, verify the current_schema() output, or qualify the name with the correct schema and catalog.\nTo tolerate the error on drop use DROP VIEW IF EXISTS or DROP TABLE IF EXISTS.;\n'UnresolvedRelation [bootcamp, bucketed_match_details], [], false\n"
     ]
    }
   ],
   "source": [
    "from pyspark.sql.functions import col\n",
    "\n",
    "#************* Set configurations ******************#\n",
    "# When true, try to eliminate shuffle by using the partitioning reported by a compatible V2 data source\n",
    "spark.conf.set(\"spark.sql.sources.v2.bucketing.enabled\", \"true\")\n",
    "\n",
    "# When true, partitioning info is retained during query planning. \n",
    "# This prevents unnecessary repartitioning, optimizing performance by reducing shuffle costs during execution.\n",
    "spark.conf.set(\"spark.sql.iceberg.planning.preserve-data-grouping\", \"true\")\n",
    "\n",
    "# When enabled, try to eliminate shuffle if one side of the join has missing partition values from the other side.\n",
    "# spark.conf.set(\"spark.sql.sources.v2.bucketing.pushPartValues.enabled\", \"true\")\n",
    "\n",
    "# When true, require the join or MERGE keys to be same and in the same order as the partition keys to eliminate shuffle.\n",
    "# That's the reason it's being set to false\n",
    "# spark.conf.set(\"spark.sql.requireAllClusterKeysForCoPartition\", \"false\")\n",
    "\n",
    "# When enabled, try to avoid shuffle if join condition does not include all partition columns.\n",
    "# spark.sql.sources.v2.bucketing.allowJoinKeysSubsetOfPartitionKeys.enabled\n",
    "\n",
    "\n",
    "# Read bucketed tables\n",
    "bucketed_match_details_df = spark.read.table(\"bootcamp.bucketed_match_details\")\n",
    "bucketed_matches_df = spark.read.table(\"bootcamp.bucketed_matches\")\n",
    "\n",
    "# Filter out null values from match_id columns\n",
    "bucketed_match_details_df = bucketed_match_details_df.filter(bucketed_match_details_df.match_id.isNotNull())\n",
    "bucketed_matches_df = bucketed_matches_df.filter(bucketed_matches_df.match_id.isNotNull())\n",
    "\n",
    "# # Check for skewness in match_details_df\n",
    "# match_details_skewness = bucketed_match_details_df.groupBy(\"match_id\").count().orderBy(\"count\", ascending=False)\n",
    "# match_details_skewness.show()\n",
    "\n",
    "# # Check for skewness in matches_df\n",
    "# matches_skewness = bucketed_matches_df.groupBy(\"match_id\").count().orderBy(\"count\", ascending=False)\n",
    "# matches_skewness.show()\n",
    "\n",
    "# # Repartition skewed data\n",
    "# bucketed_match_details_df = bucketed_match_details_df.repartition(16, col(\"match_id\"))\n",
    "# bucketed_matches_df = bucketed_matches_df.repartition(16, col(\"match_id\"))\n",
    "\n",
    "# Perform the join\n",
    "match_details_with_matches_df = bucketed_match_details_df.alias(\"md\").join(\n",
    "    bucketed_matches_df.alias(\"m\"), col(\"md.match_id\") == col(\"m.match_id\"), \"inner\"\n",
    ").select(\n",
    "    col(\"md.match_id\").alias(\"md_match_id\"),\n",
    "    col(\"md.player_gamertag\"),\n",
    "    col(\"md.player_total_kills\"),\n",
    "    col(\"m.playlist_id\"),\n",
    "    col(\"m.mapid\").alias(\"map_id\")\n",
    ")\n",
    "\n",
    "# Verify the join plan\n",
    "match_details_with_matches_df.explain(\"FORMATTED\")\n",
    "\n",
    "# Try to execute the count and catch any errors\n",
    "try:\n",
    "    result_count = match_details_with_matches_df.count()\n",
    "    print(f\"Count Result: {result_count}\")\n",
    "except Exception as e:\n",
    "    print(\"Error during execution:\", e)\n"
   ]
  }
 ],
 "metadata": {
  "kernelspec": {
   "display_name": "Python 3 (ipykernel)",
   "language": "python",
   "name": "python3"
  },
  "language_info": {
   "codemirror_mode": {
    "name": "ipython",
    "version": 3
   },
   "file_extension": ".py",
   "mimetype": "text/x-python",
   "name": "python",
   "nbconvert_exporter": "python",
   "pygments_lexer": "ipython3",
   "version": "3.10.16"
  }
 },
 "nbformat": 4,
 "nbformat_minor": 5
}
