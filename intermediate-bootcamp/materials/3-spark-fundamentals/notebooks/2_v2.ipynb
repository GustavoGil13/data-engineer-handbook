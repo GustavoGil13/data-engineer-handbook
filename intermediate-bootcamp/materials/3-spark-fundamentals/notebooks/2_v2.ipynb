{
 "cells": [
  {
   "cell_type": "code",
   "execution_count": 1,
   "id": "000e5111-7d76-46dd-9c81-4f83b4fb25d2",
   "metadata": {},
   "outputs": [
    {
     "name": "stderr",
     "output_type": "stream",
     "text": [
      "25/09/14 15:42:36 WARN SparkSession: Using an existing Spark session; only runtime SQL configurations will take effect.\n",
      "                                                                                "
     ]
    },
    {
     "name": "stdout",
     "output_type": "stream",
     "text": [
      "== Physical Plan ==\n",
      "AdaptiveSparkPlan (11)\n",
      "+- Project (10)\n",
      "   +- SortMergeJoin Inner (9)\n",
      "      :- Project (6)\n",
      "      :  +- SortMergeJoin Inner (5)\n",
      "      :     :- Sort (2)\n",
      "      :     :  +- BatchScan demo.default.matches_hive (1)\n",
      "      :     +- Sort (4)\n",
      "      :        +- BatchScan demo.default.match_details_hive (3)\n",
      "      +- Sort (8)\n",
      "         +- BatchScan demo.default.medals_matches_players_hive (7)\n",
      "\n",
      "\n",
      "(1) BatchScan demo.default.matches_hive\n",
      "Output [3]: [match_id#278, playlist_id#279, mapid#280]\n",
      "demo.default.matches_hive (branch=null) [filters=match_id IS NOT NULL, groupedBy=match_id_bucket]\n",
      "\n",
      "(2) Sort\n",
      "Input [3]: [match_id#278, playlist_id#279, mapid#280]\n",
      "Arguments: [match_id#278 ASC NULLS FIRST], false, 0\n",
      "\n",
      "(3) BatchScan demo.default.match_details_hive\n",
      "Output [3]: [match_id#284, player_gamertag#285, player_total_kills#286]\n",
      "demo.default.match_details_hive (branch=null) [filters=match_id IS NOT NULL, groupedBy=match_id_bucket]\n",
      "\n",
      "(4) Sort\n",
      "Input [3]: [match_id#284, player_gamertag#285, player_total_kills#286]\n",
      "Arguments: [match_id#284 ASC NULLS FIRST], false, 0\n",
      "\n",
      "(5) SortMergeJoin\n",
      "Left keys [1]: [match_id#278]\n",
      "Right keys [1]: [match_id#284]\n",
      "Join type: Inner\n",
      "Join condition: None\n",
      "\n",
      "(6) Project\n",
      "Output [5]: [match_id#278, playlist_id#279, mapid#280, player_gamertag#285, player_total_kills#286]\n",
      "Input [6]: [match_id#278, playlist_id#279, mapid#280, match_id#284, player_gamertag#285, player_total_kills#286]\n",
      "\n",
      "(7) BatchScan demo.default.medals_matches_players_hive\n",
      "Output [3]: [match_id#290, medal_id#291, count#292]\n",
      "demo.default.medals_matches_players_hive (branch=null) [filters=match_id IS NOT NULL, groupedBy=match_id_bucket]\n",
      "\n",
      "(8) Sort\n",
      "Input [3]: [match_id#290, medal_id#291, count#292]\n",
      "Arguments: [match_id#290 ASC NULLS FIRST], false, 0\n",
      "\n",
      "(9) SortMergeJoin\n",
      "Left keys [1]: [match_id#278]\n",
      "Right keys [1]: [match_id#290]\n",
      "Join type: Inner\n",
      "Join condition: None\n",
      "\n",
      "(10) Project\n",
      "Output [7]: [match_id#278, playlist_id#279, mapid#280, player_gamertag#285, player_total_kills#286, medal_id#291, count#292]\n",
      "Input [8]: [match_id#278, playlist_id#279, mapid#280, player_gamertag#285, player_total_kills#286, match_id#290, medal_id#291, count#292]\n",
      "\n",
      "(11) AdaptiveSparkPlan\n",
      "Output [7]: [match_id#278, playlist_id#279, mapid#280, player_gamertag#285, player_total_kills#286, medal_id#291, count#292]\n",
      "Arguments: isFinalPlan=false\n",
      "\n",
      "\n"
     ]
    }
   ],
   "source": [
    "from pyspark.sql import SparkSession\n",
    "from pyspark.sql import functions as F\n",
    "spark = SparkSession.builder.appName(\"Jupyter\").getOrCreate()\n",
    "spark.sparkContext.setLogLevel(\"ERROR\")\n",
    "spark.conf.set(\"spark.sql.autoBroadcastJoinThreshold\", \"-1\")\n",
    "spark.conf.set('spark.sql.sources.v2.bucketing.enabled','true') \n",
    "spark.conf.set('spark.sql.iceberg.planning.preserve-data-grouping','true')\n",
    "# spark.conf.set('spark.sql.sources.v2.bucketing.enabled','true') \n",
    "# spark.conf.set('spark.sql.sources.v2.bucketing.pushPartValues.enabled','true')\n",
    "# spark.conf.set('spark.sql.requireAllClusterKeysForCoPartition','false')\n",
    "# spark.conf.set('spark.sql.sources.v2.bucketing.partiallyClusteredDistribution.enabled','true')\n",
    "#\n",
    "\n",
    "# read data\n",
    "# match_id pk\n",
    "matches = spark.read.option(\"header\", \"true\").csv(\"/home/iceberg/data/matches.csv\").select(\"match_id\", \"playlist_id\", \"mapid\")\n",
    "# match_id\tplayer_gamertag pk\n",
    "match_details = (\n",
    "    spark.read.option(\"header\", \"true\")\n",
    "    .csv(\"/home/iceberg/data/match_details.csv\")\n",
    "    .select(\"match_id\", \"player_gamertag\", \"player_total_kills\")\n",
    "    .withColumn(\"player_total_kills\", F.col(\"player_total_kills\").cast(\"int\"))\n",
    ")\n",
    "# match_id\tmedal_id\tplayer_gamertag pk\n",
    "medals_matches_players = (\n",
    "    spark.read.option(\"header\", \"true\")\n",
    "    .csv(\"/home/iceberg/data/medals_matches_players.csv\")\n",
    "    .select(\"match_id\", \"medal_id\", \"count\")\n",
    "    .withColumn(\"count\", F.col(\"count\").cast(\"int\"))\n",
    ")\n",
    "# medal_id pk\n",
    "medals = (\n",
    "    spark.read.option(\"header\", \"true\")\n",
    "    .csv(\"/home/iceberg/data/medals.csv\")\n",
    "    .select(\"medal_id\", \"description\", \"name\")\n",
    "    .filter(F.col(\"name\") == \"Killing Spree\")\n",
    ")\n",
    "# mapid pk\n",
    "maps = spark.read.option(\"header\", \"true\").csv(\"/home/iceberg/data/maps.csv\")\n",
    "\n",
    "# write bucketed data\n",
    "# sortBy(\"match_id\") gives an error \"IllegalArgumentException: Cannot convert transform with more than one column reference: sorted_bucket(match_id, 16, match_id)\"\n",
    "matches.write.mode(\"overwrite\").bucketBy(16, \"match_id\").saveAsTable(\"default.matches_hive\")\n",
    "match_details.write.mode(\"overwrite\").bucketBy(16, \"match_id\").saveAsTable(\"default.match_details_hive\")\n",
    "medals_matches_players.write.mode(\"overwrite\").bucketBy(16, \"match_id\").saveAsTable(\"default.medals_matches_players_hive\")\n",
    "\n",
    "# read bucketed data\n",
    "matches_bucketed = spark.table(\"default.matches_hive\")\n",
    "match_details_bucketed = spark.table(\"default.match_details_hive\")\n",
    "medals_matches_players_bucketed = spark.table(\"default.medals_matches_players_hive\")\n",
    "\n",
    "# joined data\n",
    "join_dataset = (\n",
    "    matches_bucketed.alias(\"m\")\n",
    "    .join(match_details_bucketed.alias(\"md\"), on=\"match_id\", how=\"inner\")\n",
    "    .join(medals_matches_players_bucketed.alias(\"mmp\"), on=\"match_id\", how=\"inner\")\n",
    "    .select (\n",
    "        \"m.match_id\"\n",
    "        , \"m.playlist_id\"\n",
    "        , \"m.mapid\"\n",
    "        , \"md.player_gamertag\"\n",
    "        , \"md.player_total_kills\"\n",
    "        , \"mmp.medal_id\"\n",
    "        , \"mmp.count\"\n",
    "    )\n",
    ")\n",
    "\n",
    "join_dataset.explain(\"FORMATTED\")"
   ]
  },
  {
   "cell_type": "code",
   "execution_count": 2,
   "id": "83e2353d-14ec-41ec-a9fc-ab258fa90546",
   "metadata": {},
   "outputs": [
    {
     "name": "stdout",
     "output_type": "stream",
     "text": [
      "+---------------+---------+\n",
      "|player_gamertag|avg_kills|\n",
      "+---------------+---------+\n",
      "|   gimpinator14|    109.0|\n",
      "+---------------+---------+\n",
      "\n",
      "+------------------------------------+----------+\n",
      "|playlist_id                         |num_played|\n",
      "+------------------------------------+----------+\n",
      "|f72e0ef0-7c4a-4307-af78-8e38dac3fdba|9350      |\n",
      "+------------------------------------+----------+\n",
      "\n",
      "+------------------------------------+----------+\n",
      "|mapid                               |num_played|\n",
      "+------------------------------------+----------+\n",
      "|c7edbf0f-f206-11e4-aa52-24be05e24f7e|8587      |\n",
      "+------------------------------------+----------+\n",
      "\n"
     ]
    },
    {
     "name": "stderr",
     "output_type": "stream",
     "text": [
      "[Stage 25:=========>       (9 + 7) / 16][Stage 26:>                 (0 + 1) / 1]"
     ]
    },
    {
     "name": "stdout",
     "output_type": "stream",
     "text": [
      "+------------------------------------+------------------+------+------------------------------------+\n",
      "|mapid                               |num_medals_per_map|name  |description                         |\n",
      "+------------------------------------+------------------+------+------------------------------------+\n",
      "|c74c9d0f-f206-11e4-8330-24be05e24f7e|5393              |Alpine|These vistas are Forerunner mementos|\n",
      "+------------------------------------+------------------+------+------------------------------------+\n",
      "\n"
     ]
    },
    {
     "name": "stderr",
     "output_type": "stream",
     "text": [
      "                                                                                "
     ]
    }
   ],
   "source": [
    "#Which player averages the most kills per game?\n",
    "(\n",
    "match_details_bucketed.groupBy(\"player_gamertag\")\n",
    "    .agg(\n",
    "        F.avg(\"player_total_kills\").alias(\"avg_kills\")\n",
    "    )\n",
    "    .orderBy(F.desc('avg_kills'))\n",
    "    .limit(1)\n",
    ").show()\n",
    "\n",
    "#Which playlist gets played the most?\n",
    "(\n",
    "matches_bucketed.groupBy(\"playlist_id\")\n",
    "    .agg(\n",
    "        F.count(\"*\").alias(\"num_played\")\n",
    "    )\n",
    "    .orderBy(F.desc('num_played'))\n",
    "    .limit(1)\n",
    ").show(truncate=False)\n",
    "\n",
    "#Which map gets played the most?\n",
    "(\n",
    "matches_bucketed.groupBy(\"mapid\")\n",
    "    .agg(\n",
    "        F.count(\"*\").alias(\"num_played\")\n",
    "    )\n",
    "    .orderBy(F.desc('num_played'))\n",
    "    .limit(1)\n",
    ").show(truncate=False)\n"
   ]
  },
  {
   "cell_type": "code",
   "execution_count": 3,
   "id": "2a7f3b99-a558-402c-8f56-105a7fe8272c",
   "metadata": {},
   "outputs": [
    {
     "data": {
      "text/plain": [
       "DataFrame[]"
      ]
     },
     "execution_count": 3,
     "metadata": {},
     "output_type": "execute_result"
    }
   ],
   "source": [
    "spark.sql(\"drop table if exists default.join_dataset_playlist_id\")\n",
    "\n",
    "spark.sql(\"\"\"\n",
    "CREATE TABLE default.join_dataset_playlist_id (\n",
    "   match_id string\n",
    " ,player_gamertag string\n",
    " ,player_total_kills string\n",
    " ,playlist_id string\n",
    " ,mapid string\n",
    " ,medal_id string\n",
    "  ) USING iceberg PARTITIONED BY (playlist_id)\n",
    "\"\"\")\n",
    "\n",
    "spark.sql(\"drop table if exists default.join_dataset_mapid\")\n",
    "\n",
    "spark.sql(\"\"\"\n",
    "CREATE TABLE default.join_dataset_mapid (\n",
    "  match_id string\n",
    " ,player_gamertag string\n",
    " ,player_total_kills string\n",
    " ,playlist_id string\n",
    " ,mapid string\n",
    " ,medal_id string\n",
    "  ) USING iceberg PARTITIONED BY (mapid)\n",
    "\"\"\")\n",
    "\n",
    "spark.sql(\"drop table if exists default.join_dataset_playlist_id_mapid\")\n",
    "\n",
    "spark.sql(\"\"\"\n",
    "CREATE TABLE default.join_dataset_playlist_id_mapid (\n",
    "  match_id string\n",
    " ,player_gamertag string\n",
    " ,player_total_kills string\n",
    " ,playlist_id string\n",
    " ,mapid string\n",
    " ,medal_id string\n",
    "  ) USING iceberg PARTITIONED BY (playlist_id, mapid)\n",
    "\"\"\")"
   ]
  },
  {
   "cell_type": "code",
   "execution_count": 5,
   "id": "87e52d9e-86c0-4de1-aece-ad59712f78f4",
   "metadata": {},
   "outputs": [
    {
     "name": "stderr",
     "output_type": "stream",
     "text": [
      "                                                                                "
     ]
    }
   ],
   "source": [
    "join_dataset_cached = join_dataset.select(\n",
    "\"match_id\"\n",
    " ,\"player_gamertag\"\n",
    " ,\"player_total_kills\"\n",
    " ,\"playlist_id\"\n",
    " ,\"mapid\"\n",
    " ,\"medal_id\").persist()\n",
    "\n",
    "join_dataset_cached.sortWithinPartitions(\"playlist_id\").write.mode(\"append\").saveAsTable(\"default.join_dataset_playlist_id\")\n",
    "\n",
    "join_dataset_cached.sortWithinPartitions(\"mapid\").write.mode(\"append\").saveAsTable(\"default.join_dataset_mapid\")\n",
    "\n",
    "join_dataset_cached.sortWithinPartitions(\"playlist_id\", \"mapid\").write.mode(\"append\").saveAsTable(\"default.join_dataset_playlist_id_mapid\")"
   ]
  },
  {
   "cell_type": "code",
   "execution_count": 6,
   "id": "b6bcbffe-ac5c-4915-81a6-3aed48774651",
   "metadata": {},
   "outputs": [
    {
     "name": "stdout",
     "output_type": "stream",
     "text": [
      "+-------+---------+-----------+\n",
      "|   size|num_files|playlist_id|\n",
      "+-------+---------+-----------+\n",
      "|7580049|       23|playlist_id|\n",
      "|7614955|       16|      mapid|\n",
      "|7169696|      196|       both|\n",
      "+-------+---------+-----------+\n",
      "\n"
     ]
    }
   ],
   "source": [
    "spark.sql(\"\"\"\n",
    "SELECT SUM(file_size_in_bytes) as size, COUNT(1) as num_files, 'playlist_id' \n",
    "FROM default.join_dataset_playlist_id.files\n",
    "union all\n",
    "SELECT SUM(file_size_in_bytes) as size, COUNT(1) as num_files, 'mapid' \n",
    "FROM default.join_dataset_mapid.files\n",
    "union all\n",
    "SELECT SUM(file_size_in_bytes) as size, COUNT(1) as num_files, 'both' \n",
    "FROM default.join_dataset_playlist_id_mapid.files\n",
    "\"\"\").show()"
   ]
  }
 ],
 "metadata": {
  "kernelspec": {
   "display_name": "Python 3 (ipykernel)",
   "language": "python",
   "name": "python3"
  },
  "language_info": {
   "codemirror_mode": {
    "name": "ipython",
    "version": 3
   },
   "file_extension": ".py",
   "mimetype": "text/x-python",
   "name": "python",
   "nbconvert_exporter": "python",
   "pygments_lexer": "ipython3",
   "version": "3.10.16"
  }
 },
 "nbformat": 4,
 "nbformat_minor": 5
}
